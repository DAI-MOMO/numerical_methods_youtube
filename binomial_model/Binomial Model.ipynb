{
 "cells": [
  {
   "cell_type": "code",
   "execution_count": 2,
   "metadata": {},
   "outputs": [],
   "source": [
    "import numpy as np\n",
    "import matplotlib.pyplot as plt\n",
    "from scipy.sparse import csc_matrix\n",
    "from scipy.stats import bernoulli\n",
    "\n",
    "%matplotlib inline"
   ]
  },
  {
   "cell_type": "markdown",
   "metadata": {},
   "source": [
    "<img src=\"tex/tree1.png\">\n",
    "\n",
    "$$C = e^{-rt}(pC_u + (1-p)C_d)$$"
   ]
  },
  {
   "cell_type": "code",
   "execution_count": 5,
   "metadata": {},
   "outputs": [
    {
     "name": "stdout",
     "output_type": "stream",
     "text": [
      "105.0 95.23809523809523\n",
      "1.485074750623752\n"
     ]
    }
   ],
   "source": [
    "S0 = 100\n",
    "t = 1\n",
    "u = 1.05\n",
    "d = 1/u\n",
    "p = 0.6\n",
    "\n",
    "S_u = u * S0\n",
    "S_d = d * S0\n",
    "\n",
    "K = 102.5\n",
    "r = 0.01\n",
    "\n",
    "C_u = S_u - K\n",
    "C_d = 0\n",
    "\n",
    "print(S_u, S_d)\n",
    "\n",
    "C = np.exp(-r * t) * ( p*C_u + (1-p)*C_d)\n",
    "print(C)"
   ]
  },
  {
   "cell_type": "markdown",
   "metadata": {},
   "source": [
    "<img src=\"tex/tree2.png\">"
   ]
  },
  {
   "cell_type": "code",
   "execution_count": 50,
   "metadata": {},
   "outputs": [
    {
     "name": "stdout",
     "output_type": "stream",
     "text": [
      "15.28912682401203\n"
     ]
    }
   ],
   "source": [
    "N = 5\n",
    "\n",
    "t = 1\n",
    "t = t / (N - 1)\n",
    "\n",
    "S0 = 100\n",
    "K = 102.5\n",
    "r = 0.01\n",
    "\n",
    "sigma = 0.4\n",
    "u = np.exp(sigma * np.sqrt(t))\n",
    "d = 1/u\n",
    "p = (np.exp(r * t) - d) / (u - d)\n",
    "\n",
    "stock_prices = np.zeros( (N, N) )\n",
    "call_prices = np.zeros( (N, N) )\n",
    "\n",
    "stock_prices[0,0] = S0\n",
    "\n",
    "for i in range(1, N ):\n",
    "    M = i + 1\n",
    "    stock_prices[i, 0] = d * stock_prices[i-1, 0]\n",
    "    for j in range(1, M ):\n",
    "        stock_prices[i, j] = u * stock_prices[i - 1, j - 1]\n",
    " \n",
    "\n",
    "expiration = stock_prices[-1,:] - K\n",
    "expiration.shape = (expiration.size, )\n",
    "expiration = np.where(expiration >= 0, expiration, 0)\n",
    "\n",
    "call_prices[-1,:] =  expiration\n",
    "\n",
    "for i in range(N - 2,-1,-1):\n",
    "    for j in range(i + 1):\n",
    "        call_prices[i,j] = np.exp(-r * t) * ((1-p) * call_prices[i+1,j] + p * call_prices[i+1,j+1])\n",
    "\n",
    "#plt.spy(call_prices)\n",
    "print(call_prices[0,0])"
   ]
  },
  {
   "cell_type": "code",
   "execution_count": null,
   "metadata": {},
   "outputs": [],
   "source": []
  }
 ],
 "metadata": {
  "kernelspec": {
   "display_name": "Python 3",
   "language": "python",
   "name": "python3"
  },
  "language_info": {
   "codemirror_mode": {
    "name": "ipython",
    "version": 3
   },
   "file_extension": ".py",
   "mimetype": "text/x-python",
   "name": "python",
   "nbconvert_exporter": "python",
   "pygments_lexer": "ipython3",
   "version": "3.7.1"
  }
 },
 "nbformat": 4,
 "nbformat_minor": 4
}
