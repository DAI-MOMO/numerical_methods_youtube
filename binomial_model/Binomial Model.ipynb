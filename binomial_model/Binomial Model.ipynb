{
 "cells": [
  {
   "cell_type": "code",
   "execution_count": 53,
   "metadata": {},
   "outputs": [],
   "source": [
    "import numpy as np\n",
    "import matplotlib.pyplot as plt\n",
    "from scipy.sparse import csc_matrix\n",
    "from scipy.stats import bernoulli\n",
    "\n",
    "%matplotlib inline"
   ]
  },
  {
   "cell_type": "markdown",
   "metadata": {},
   "source": [
    "<img src=\"tex/tree1.png\">\n",
    "\n",
    "First, we assume a stock moves up a factor of $u$ or down a factor $d$ with a probability of $p$ or $(1-p)$, respectively.  At expiration, we know the price of the option.  It is either 0 if out-of-the-money, or its intrinsic value if in-the-money.\n",
    "\n",
    "The price at the preceding node is then give by, \n",
    "$$C = e^{-rt}(pC_u + (1-p)C_d)$$\n",
    "\n",
    "If the tree has multiple layers as shown below, we can then repeat the above process to entirely fill out the tree."
   ]
  },
  {
   "cell_type": "code",
   "execution_count": 54,
   "metadata": {},
   "outputs": [
    {
     "name": "stdout",
     "output_type": "stream",
     "text": [
      "1.485074750623752\n"
     ]
    }
   ],
   "source": [
    "#  Manual process for simple two-step tree\n",
    "\n",
    "#  Our initial stock price\n",
    "S0 = 100\n",
    "\n",
    "#  Time to expiration in years\n",
    "t = 1\n",
    "\n",
    "#  Assumed up and down percentages\n",
    "u = 1.05\n",
    "d = 1/u\n",
    "\n",
    "#  Probability of an up move\n",
    "p = 0.6\n",
    "\n",
    "#  Stock price at expiration\n",
    "S_u = u * S0\n",
    "S_d = d * S0\n",
    "\n",
    "#  Option strike price and risk-free rate\n",
    "K = 102.5\n",
    "r = 0.01\n",
    "\n",
    "#  Call price at up node\n",
    "C_u = S_u - K\n",
    "\n",
    "#  Call price at down node\n",
    "C_d = 0\n",
    "\n",
    "#Print out the stock prices at expiration\n",
    "#print(S_u, S_d)\n",
    "\n",
    "#  Calculate and print the call price at t = 0\n",
    "C = np.exp(-r * t) * ( p*C_u + (1-p)*C_d)\n",
    "print(C)"
   ]
  },
  {
   "cell_type": "markdown",
   "metadata": {},
   "source": [
    "A multi-level tree might look like:\n",
    "<img src=\"tex/tree2.png\">"
   ]
  },
  {
   "cell_type": "code",
   "execution_count": 55,
   "metadata": {},
   "outputs": [
    {
     "name": "stdout",
     "output_type": "stream",
     "text": [
      "14.709673831491694\n"
     ]
    }
   ],
   "source": [
    "#  Define the number of layers\n",
    "N = 5\n",
    "\n",
    "#  Time to expiration, the we rescale it to time per layer step\n",
    "t = 1\n",
    "t = t / (N - 1)\n",
    "\n",
    "#  Iniital stock price, strike price, and risk-free rate\n",
    "S0 = 100\n",
    "K = 102.5\n",
    "r = 0.01\n",
    "\n",
    "#  Assume a volatility and calculate the size of an up move, down move, and probability\n",
    "sigma = 0.4\n",
    "u = np.exp(sigma * np.sqrt(t))\n",
    "d = 1/u\n",
    "p = (np.exp(r * t) - d) / (u - d)\n",
    "\n",
    "#  Create some empty matrices to hold our stock and call prices.\n",
    "stock_prices = np.zeros( (N, N) )\n",
    "call_prices = np.zeros( (N, N) )\n",
    "\n",
    "#  Put our initial price in the matrix\n",
    "stock_prices[0,0] = S0\n",
    "\n",
    "#  Fill out the remaining values\n",
    "for i in range(1, N ):\n",
    "    M = i + 1\n",
    "    stock_prices[i, 0] = d * stock_prices[i-1, 0]\n",
    "    for j in range(1, M ):\n",
    "        stock_prices[i, j] = u * stock_prices[i - 1, j - 1]\n",
    " \n",
    "#  Calculate the call price at expiration.  if the call price is less than zero, it is out-of-the-money so we replace those values with zero.\n",
    "expiration = stock_prices[-1,:] - K\n",
    "expiration.shape = (expiration.size, )\n",
    "expiration = np.where(expiration >= 0, expiration, 0)\n",
    "\n",
    "#  Set the last row of the call matrix to our expiration values\n",
    "call_prices[-1,:] =  expiration\n",
    "\n",
    "#  Backpropagate to filll out our tree\n",
    "for i in range(N - 2,-1,-1):\n",
    "    for j in range(i + 1):\n",
    "        call_prices[i,j] = np.exp(-r * t) * ((1-p) * call_prices[i+1,j] + p * call_prices[i+1,j+1])\n",
    "\n",
    "#plt.spy(call_prices)\n",
    "print(call_prices[0,0])"
   ]
  },
  {
   "cell_type": "code",
   "execution_count": null,
   "metadata": {},
   "outputs": [],
   "source": []
  }
 ],
 "metadata": {
  "kernelspec": {
   "display_name": "Python 3",
   "language": "python",
   "name": "python3"
  },
  "language_info": {
   "codemirror_mode": {
    "name": "ipython",
    "version": 3
   },
   "file_extension": ".py",
   "mimetype": "text/x-python",
   "name": "python",
   "nbconvert_exporter": "python",
   "pygments_lexer": "ipython3",
   "version": "3.7.1"
  }
 },
 "nbformat": 4,
 "nbformat_minor": 4
}
