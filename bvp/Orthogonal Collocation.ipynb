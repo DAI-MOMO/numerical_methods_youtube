{
 "cells": [
  {
   "cell_type": "markdown",
   "id": "94a988e1",
   "metadata": {},
   "source": [
    "#  Polynomial Interpolation\n",
    "\n",
    "First, consider how we did polynomial interpolation.  In the figure below, we have a total of $N+1$ points, and we wish to construct a polynomial that passes though all the points.\n",
    "\n",
    "<img src=\"point_numbering.png\">\n",
    "\n",
    "In general, if we have $N+1$ points, we can find an $N$th order polynomial that passes though all those points.  So an $N$th order polynomial has the form,\n",
    "\n",
    "$$y = \\theta_0 + \\theta_1  x +  \\theta_2 x^2 + \\theta_3 x^3 + \\theta_4 x^4 + \\theta_5 x^5.$$\n",
    "\n",
    "So, if the polynomial passes though all the points, we will have $N+1$ equations and an equal number of unknowns.\n",
    "\n",
    "\\begin{array}{lll}\n",
    "y_1 & = & \\theta_0 + \\theta_1  x_1 +  \\theta_2 x_1^2 + \\theta_3 x_1^3 + \\theta_4 x_1^4 + \\theta_5 x_1^5 \\\\\n",
    "y_2 & = & \\theta_0 + \\theta_1  x_2 +  \\theta_2 x_2^2 + \\theta_3 x_2^3 + \\theta_4 x_2^4 + \\theta_5 x_2^5 \\\\\n",
    "y_3 & = & \\theta_0 + \\theta_1  x_3 +  \\theta_2 x_3^2 + \\theta_3 x_3^3 + \\theta_4 x_3^4 + \\theta_5 x_3^5 \\\\\n",
    "    &    &   \\qquad\\qquad\\qquad\\vdots \\\\\n",
    "y_i & = & \\theta_0 + \\theta_1  x_i +  \\theta_2 x_i^2 + \\theta_3 x_i^3 + \\theta_4 x_i^4 + \\theta_5 x_i^5 \\\\\n",
    "y_{i+1} & = & \\theta_0 + \\theta_1  x_{i+1} +  \\theta_2 x_{i+2}^2 + \\theta_3 x_{i+3}^3 + \\theta_4 x_{i_1}^4 + \\theta_5 x_{i+1}^5 \\\\\n",
    "    & & \\qquad\\qquad\\qquad\\vdots \\\\\n",
    "y_N & = & \\theta_0 + \\theta_1  x_N +  \\theta_2 x_N^2 + \\theta_3 xN5^3 + \\theta_4 x_N^4 + \\theta_5 x_N^5 \\\\\n",
    "y_{N+1} & = & \\theta_0 + \\theta_1  x_{N+1} +  \\theta_2 x_{N+1}^2 + \\theta_3 x_{N+1}^3 + \\theta_4 x_{N+1}^4 + \\theta_5 x_{N+1}^5\n",
    "\\end{array}\n"
   ]
  },
  {
   "cell_type": "markdown",
   "id": "ad74f98b",
   "metadata": {},
   "source": [
    "Or in matrix form,\n",
    "$$\n",
    "\\begin{pmatrix}\n",
    "y_1 \\\\\n",
    "y_2 \\\\\n",
    "y_3 \\\\\n",
    "\\vdots \\\\\n",
    "y_N \\\\\n",
    "y_{N+1}\n",
    "\\end{pmatrix}\n",
    "=\n",
    "\\begin{pmatrix}\n",
    "x_1^0 & x_2^1 & x_1^2 &  x_1^3 & \\cdots & x_1^{N-1} & x_1^N \\\\\n",
    "x_2^0 & x_3^1 & x_2^2 & x_2^3 & \\cdots & x_2^{N-1} & x_2^N \\\\\n",
    "x_3^0 & x_4^1 & x_3^2 & x_3^3 & \\cdots & x_3^{N-1} & x_3^N \\\\\n",
    "\\vdots&\\vdots &\\vdots & \\vdots& \\ddots & \\vdots & \\vdots \\\\\n",
    "x_N^0 & x_N^1 & x_N^2 & x_N^3 & \\cdots & x_N^{N-1} & x_N^N \\\\\n",
    "x_{N+1}^0 & x_{N+1}^1 & x_{N+1}^2 & x_{N+1}^3 & \\cdots & x_{N+1}^{N-1} & x_{N+1}^N\n",
    "\\end{pmatrix}\n",
    "\\begin{pmatrix}\n",
    "\\theta_0 \\\\\n",
    "\\theta_1 \\\\\n",
    "\\theta_2 \\\\\n",
    "\\vdots \\\\\n",
    "\\theta_{N-1} \\\\\n",
    "\\theta_N\n",
    "\\end{pmatrix}\n",
    "$$\n"
   ]
  },
  {
   "cell_type": "markdown",
   "id": "39ca63d6",
   "metadata": {},
   "source": [
    "##  Solving Boundary Value Problems\n",
    "\n",
    "\\begin{equation}\n",
    "    \\Phi\\left[\\frac{d^2f}{dx}, \\frac{df}{dx}, f, x\\right] = 0\n",
    "\\end{equation}\n",
    "\n",
    "subject to the boundary conditions,\n",
    "\\begin{equation}\n",
    "    \\Phi\\left[\\frac{d^2f}{dx}, \\frac{df}{dx}, f, 0\\right] = 0\n",
    "\\end{equation}\n",
    "and\n",
    "\\begin{equation}\n",
    "    \\Phi\\left[\\frac{d^2f}{dx}, \\frac{df}{dx}, f, 1\\right] = 0\n",
    "\\end{equation}\n",
    "\n",
    "We subdivide our domain into #N+1$ points.\n",
    "<img src=\"line.png\">\n",
    "\n",
    "Since we know the boundary conditions at $i = 1$ and $i = N+1$, and we also know the value of the differential equation (0) in the nterior points, we can use  an $N$th oder polynomial as our approximate solution."
   ]
  },
  {
   "cell_type": "markdown",
   "id": "d1026594",
   "metadata": {},
   "source": [
    "## Solving Bounardy Value Problems\n",
    "\n",
    "Assume an $n$th order polynomial that passes through our $N+1$ collocation (grid) points.\n",
    "\\begin{equation}\n",
    "f(x) = \\theta_0 + \\theta_1 x + \\theta_2 x^2 + ... + \\theta_{N-1}x^{N-1} + \\theta_n x^N\n",
    "\\label{eq:polynomial}\n",
    "\\end{equation}\n",
    "\n",
    "\n",
    "For each point, we have an equation.  In matrix form, this lloks like,\n",
    "\\begin{equation}\n",
    "    \\underbrace{\n",
    "        \\begin{pmatrix}\n",
    "            f(x_1) \\\\\n",
    "            f(x_1) \\\\\n",
    "            f(x_1) \\\\\n",
    "            \\vdots \\\\\n",
    "            f(x_N) \\\\\n",
    "        \\end{pmatrix}\n",
    "    }_{\\pmb{F}}\n",
    "    =\n",
    "    \\underbrace{\n",
    "        \\begin{pmatrix}\n",
    "        x_1^0  & x_1^1  & x_1^2  & x_1^3  & \\cdots & x_1^N  \\\\\n",
    "        x_2^0  & x_2^1  & x_2^2  & x_2^3  & \\cdots & x_2^N  \\\\\n",
    "        x_3^0  & x_3^1  & x_3^2  & x_3^3  & \\cdots & x_3^N  \\\\\n",
    "        \\vdots & \\vdots & \\vdots & \\vdots & \\ddots & \\vdots \\\\\n",
    "        x_N^0  & x_N^1  & x_N^2  & x_N^3  & \\cdots & x_N^N  \\\\\n",
    "        \\end{pmatrix}\n",
    "    }_{\\pmb{A}}\n",
    "    \\underbrace{\n",
    "        \\begin{pmatrix}\n",
    "        \\theta_1 \\\\\n",
    "        \\theta_2 \\\\\n",
    "        \\theta_3 \\\\\n",
    "        \\vdots \\\\\n",
    "        \\theta_N) \\\\\n",
    "        \\end{pmatrix}\n",
    "    }_{\\pmb{\\Theta}}\n",
    "\\label{eq:polynomial_matrix}\n",
    "\\end{equation}\n",
    "\n",
    "There are two unkown column vectors above $\\pmb{F}$ and $\\pmb{\\Theta}$.  We do, however know $\\pmb{A}$.  Let us rearrange the above equations so that we have,\n",
    "\\begin{equation}\n",
    "\\pmb{\\Theta} = \\pmb{A}^{-1}\\pmb{F}\n",
    "\\label{eq:inverse}\n",
    "\\end{equation}"
   ]
  },
  {
   "cell_type": "markdown",
   "id": "13aadb51",
   "metadata": {},
   "source": [
    "\n",
    "###  Dealing with the First Derivative\n",
    "\n",
    "Similarly, the first derivative of our polynomial is,\n",
    "\n",
    "\\begin{equation}\n",
    "\\frac{df}{dx} = 0 + \\theta_1 + 2\\theta_2 x + ... + (N-1)\\theta_{N-1}x^{N-2} +  N\\theta_Nx^{N-1}\n",
    "\\label{eq:polynomial_first_derivative}\n",
    "\\end{equation}\n",
    "\n",
    "Or in matrix form at eqch collocation point,\n",
    "\\begin{equation}\n",
    "    \\begin{pmatrix}\n",
    "        \\frac{df(x_1)}{dx} \\\\\n",
    "        \\frac{df(x_2)}{dx} \\\\\n",
    "        \\frac{df(x_3)}{dx} \\\\\n",
    "        \\vdots \\\\\n",
    "        \\frac{df(x_{N-1})}{dx} \\\\\n",
    "        \\frac{df(x_N)}{dx}\n",
    "    \\end{pmatrix}\n",
    "    =\n",
    "    \\begin{pmatrix}\n",
    "        0 & 1 & 2x_1 & \\cdots & (N-1)x_1^{N-1} & Nx_1^{N-1} \\\\\n",
    "        0 & 1 & 2x_2 & \\cdots &  (N-1)x_2^{N-1} & Nx_2^{N-1} \\\\\n",
    "        0 & 1 & 2x_3 & \\cdots &  (N-1)x_3^{N-1} & Nx_3^{N-1} \\\\\n",
    "        \\vdots & \\vdots & \\vdots & \\ddots & \\vdots & \\vdots \\\\\n",
    "        0 & 1 & 2x_{N-1} & \\cdots &  (N-1)x_{N-1}^{N-1} & Nx_{N-1}^{N-1} \\\\\n",
    "        0 & 1 & 2x_N & \\cdots &  (N-1)x_N^{N-1} & Nx_N^{N-1}\n",
    "        \\end{pmatrix}\n",
    "    \\begin{pmatrix}\n",
    "        \\theta_1 \\\\\n",
    "        \\theta_2 \\\\\n",
    "        \\theta_3   \\\\\n",
    "        \\vdots \\\\\n",
    "        \\theta_{N-1} \\\\\n",
    "        \\theta_M\n",
    "        \\end{pmatrix}\n",
    "\\end{equation}\n",
    "\n",
    "Substituting in for $\\pmb{\\Theta}$, \n",
    "\n",
    "\\begin{equation}\n",
    "    \\begin{pmatrix}\n",
    "        \\frac{df(x_1)}{dx} \\\\\n",
    "        \\frac{df(x_2)}{dx} \\\\\n",
    "        \\frac{df(x_3)}{dx} \\\\\n",
    "        \\vdots \\\\\n",
    "        \\frac{df(x_N)}{dx}\n",
    "    \\end{pmatrix}\n",
    "    =\n",
    "    \\underbrace{\n",
    "        \\begin{pmatrix}\n",
    "            0 & 1 & 2x_1 & \\cdots & (N-1)x_1^{N-2} & Nx_1^{N-1} \\\\\n",
    "            0 & 1 & 2x_2 & \\cdots & (N-1)x_2^{N-2} & Nx_2^{N-1} \\\\\n",
    "            0 & 1 & 2x_3 & \\cdots & (N-1)x_3^{N-2} & Nx_3^{N-1} \\\\\n",
    "            \\vdots & \\vdots & \\vdots & \\ddots & \\vdots & \\vdots \\\\\n",
    "            0 & 1 & 2x_N & \\cdots & (N-1)x_N^{N-2} & Nx_N^{N-1}\n",
    "        \\end{pmatrix}\n",
    "        \\pmb{A}^{-1}\n",
    "    }_{\\pmb{B}} \\pmb{F}\n",
    "\\end{equation}"
   ]
  },
  {
   "cell_type": "markdown",
   "id": "a9af593b",
   "metadata": {},
   "source": [
    "###  Dealing with the Second Derivative\n",
    "\n",
    "We use the same method for the second derivative.\n",
    "$$\\frac{d^2f}{dx^2} = 0 + 0 + 2\\theta_2 + \\cdots + (N-2)(N-1)\\theta_{N-1}x^{N-3} + (N-1)N\\theta_Nx^{N-2}\n",
    "$$\n",
    "\n",
    "Our system of equations at the colocation points for the second derivative is,\n",
    "\\begin{equation}\n",
    "    \\begin{pmatrix}\n",
    "        \\frac{d^2f(x_1)}{dx^2} \\\\\n",
    "        \\frac{d^2f(x_2)}{dx^2} \\\\\n",
    "        \\frac{d^2f(x_3)}{dx^2} \\\\\n",
    "        \\vdots \\\\\n",
    "        \\frac{d^2f(x_N)}{dx^2}\n",
    "    \\end{pmatrix}\n",
    "    =\n",
    "    \\begin{pmatrix}\n",
    "        0 & 0 & 2 & 6x_1 & \\cdots & (N-2)(N-1)x_1^{N-3} & (N-1)N(x_1^{N-2} \\\\\n",
    "        0 & 0 & 2 & 6x_2 & \\cdots & (N-2)(N-1)x_2^{N-3} & (N-1)N(x_2^{N-2} \\\\\n",
    "        0 & 0 & 2 & 6x_2 & \\cdots & (N-2)(N-1)x_2^{N-3} & (N-1)N(x_2^{N-2} \\\\\n",
    "        \\vdots & \\vdots & \\vdots & \\ddots & \\vdots & \\vdots & \\vdots \\\\\n",
    "        0 & 0 & 2 & 6x_N & \\cdots & (N-2)(N-1)x_N^{N-3} & (N-1)N(x_N^{N-2} \\\\\n",
    "    \\end{pmatrix}\n",
    "    \\begin{pmatrix}\n",
    "        \\theta_1 \\\\\n",
    "        \\theta_2 \\\\\n",
    "        \\theta_3 \\\\\n",
    "        \\vdots \\\\\n",
    "        \\theta_n\n",
    "    \\end{pmatrix}\n",
    "\\end{equation}\n",
    "\n",
    "Again replacing $\\pmb{\\Theta}$,\n",
    "\n",
    "\\begin{equation}\n",
    "    \\begin{pmatrix}\n",
    "        \\frac{d^2f(x_1)}{dx^2} \\\\\n",
    "        \\frac{d^2f(x_2)}{dx^2} \\\\\n",
    "        \\frac{d^2f(x_2)}{dx^2} \\\\\n",
    "        \\vdots \\\\\n",
    "        \\frac{d^2f(x_N)}{dx^2}\n",
    "    \\end{pmatrix}\n",
    "    =\n",
    "    \\underbrace{\n",
    "        \\begin{pmatrix}\n",
    "            0 & 0 & 2 & 6x_1 & \\cdots & (N-2)(N-1)x_1^{N-3} & (N-1)N(x_1^{N-2} \\\\\n",
    "            0 & 0 & 2 & 6x_2 & \\cdots & (N-2)(N-1)x_2^{N-3} & (N-1)N(x_2^{N-2} \\\\\n",
    "            0 & 0 & 2 & 6x_3 & \\cdots & (N-2)(N-1)x_3^{N-3} & (N-1)N(x_3^{N-2} \\\\\n",
    "            \\vdots & \\vdots & \\vdots & \\ddots & \\vdots & \\vdots & \\vdots \\\\\n",
    "            0 & 0 & 2 & 6x_N & \\cdots & (N-2)(N-1)x_N^{N-3} & (N-1)N(x_N^{N-2} \\\\\n",
    "        \\end{pmatrix}\n",
    "        \\pmb{A}^{-1}\n",
    "        }_{\\pmb{C}}\n",
    "        \\pmb{F}\n",
    "\\end{equation}"
   ]
  },
  {
   "cell_type": "markdown",
   "id": "06ced57e",
   "metadata": {},
   "source": [
    "While you can use aaribtrary collocation points you'll get better results using points that are the roots of an orthogonal polynomial.  For example, of you have three internal points, you'd choose the points to be the roots of a third order polynomial, plus the two boundary points.\n",
    "\n",
    "Since we are using the interval zero to one here, I will use shifted Legendre polynomials. \n",
    "\n",
    "We will need to make use of Numpy's ability to manipulate orthogonal  polunomials.  Here is a link to a Youtube video I did on this subject:  https://youtu.be/T3B51_6OEDs <br>"
   ]
  },
  {
   "cell_type": "code",
   "execution_count": 70,
   "id": "96061890",
   "metadata": {},
   "outputs": [],
   "source": [
    "#  The imports we will need\n",
    "import numpy as np\n",
    "from numpy.matlib import repmat\n",
    "import matplotlib.pyplot as plt\n",
    "\n",
    "%matplotlib inline"
   ]
  },
  {
   "cell_type": "markdown",
   "id": "d20e4a4d",
   "metadata": {},
   "source": [
    "#  Example 1\n",
    "Solve the equation,\n",
    "$$\\frac{d^2y}{dx^2} + \\frac{\\pi^2}{4}y = 0$$\n",
    "Subject to\n",
    "$$y(0) = 3$$\n",
    "and\n",
    "$$y(1) = 0$$\n",
    "\n",
    "The exact solution is\n",
    "$$\n",
    "y = 3 \\cos\\left(\\frac{\\pi}{2} x\\right).\n",
    "$$"
   ]
  },
  {
   "cell_type": "markdown",
   "id": "07440d33",
   "metadata": {},
   "source": [
    "I am deciding ahead of time to use seven coolocation points (five interior and two boundary).  This will corrispond to a sixth order polynomial.\n",
    "\n",
    "First lets choose the interior points to be the roots of a fifth order shifted Legendre polynomial as described above."
   ]
  },
  {
   "cell_type": "code",
   "execution_count": 71,
   "id": "a4c3cf21",
   "metadata": {},
   "outputs": [],
   "source": [
    "#  5 internal points 2 poiints for the boundaries.  \n",
    "L=  np.polynomial.legendre.Legendre( (0, 0, 0, 0, 0, 1), domain=(0, 1) )\n",
    "R = L.roots()\n",
    "\n",
    "#  Now we append our left and right boundary nodes (at zero and one).\n",
    "R = np.insert(R, 0, 0)\n",
    "R = np.append(R, 1)"
   ]
  },
  {
   "cell_type": "markdown",
   "id": "f438afe2",
   "metadata": {},
   "source": [
    "Our $\\pmb{A}$ matrix is easy.  Let's calculate that and its inverse."
   ]
  },
  {
   "cell_type": "code",
   "execution_count": 72,
   "id": "83c56069",
   "metadata": {},
   "outputs": [],
   "source": [
    "A = np.stack( [R**0, R**1, R**2, R**3, R**4, R**5, R**6], axis = 1)\n",
    "A_inv = np.linalg.inv(A)"
   ]
  },
  {
   "cell_type": "markdown",
   "id": "5705ad67",
   "metadata": {},
   "source": [
    "We don't have any first derivative terms in our equation, nor do we have any boundary conditions depending on the first derivative so we don't need to do anything with the $\\pmb{B}$ matrix.\n",
    "\n",
    "We do, however, need to calculate the $\\pmb{C} matrix$."
   ]
  },
  {
   "cell_type": "code",
   "execution_count": 73,
   "id": "771a93b1",
   "metadata": {},
   "outputs": [],
   "source": [
    "#  We will use the repmat command to build a matrix of the second derivative coefficients.\n",
    "C = repmat( [0, 0, 2, 6, 12, 20, 30], R.size, 1)\n",
    "\n",
    "#  Now we build a mtrix calcuating the second derivative terms\n",
    "temp = np.append( np.zeros( (R.size, 2) ),\n",
    "                       np.stack( [R**0, R**1, R**2, R**3, R**4], axis = 1 ), axis = 1 )\n",
    "\n",
    "#  Lastly, we multiply though elementwise and multiply by $\\pmb{A}^{-1}$.\n",
    "C = C * temp\n",
    "C = C @ A_inv"
   ]
  },
  {
   "cell_type": "markdown",
   "id": "b8b21242",
   "metadata": {},
   "source": [
    "Now we need a matrix for the $\\pi^2/4 y$ term.  This is what I call $W$ here."
   ]
  },
  {
   "cell_type": "code",
   "execution_count": 74,
   "id": "a43e5e2c",
   "metadata": {},
   "outputs": [],
   "source": [
    "W = np.pi**2 / 4 * np.eye(C.shape[0])"
   ]
  },
  {
   "cell_type": "markdown",
   "id": "8099b954",
   "metadata": {},
   "source": [
    "Now we build the differential equation and change the first and last rows ro reflect the boundary conditions."
   ]
  },
  {
   "cell_type": "code",
   "execution_count": 75,
   "id": "d0a9ca45",
   "metadata": {},
   "outputs": [],
   "source": [
    "DE = C + W\n",
    "\n",
    "DE[0, :] = np.zeros(C.shape[0]); DE[0,0] = 1\n",
    "DE[-1, :] = np.zeros(C.shape[0]); DE[-1,-1] = 1"
   ]
  },
  {
   "cell_type": "markdown",
   "id": "aa482e4b",
   "metadata": {},
   "source": [
    "Now we create our vector of knowns.  They are zero on the interior as per our differential equation.  The left coundary is three so we set the first element of this vector to three.  The right boundary is zero so we make sure the last element is zero."
   ]
  },
  {
   "cell_type": "code",
   "execution_count": 76,
   "id": "e65acbf6",
   "metadata": {},
   "outputs": [],
   "source": [
    "knowns = np.zeros(R.size)\n",
    "knowns[0] = 3"
   ]
  },
  {
   "cell_type": "markdown",
   "id": "ee249fd7",
   "metadata": {},
   "source": [
    "Since this is linear, we use the linear algebra package to solve the system of equations."
   ]
  },
  {
   "cell_type": "code",
   "execution_count": 77,
   "id": "be3636e5",
   "metadata": {},
   "outputs": [],
   "source": [
    "f = np.linalg.solve(DE, knowns)"
   ]
  },
  {
   "cell_type": "markdown",
   "id": "d1fd8395",
   "metadata": {},
   "source": [
    "Let's plot the exact solution and the solution we calcuated at the collocation points."
   ]
  },
  {
   "cell_type": "code",
   "execution_count": 78,
   "id": "b2ddbd02",
   "metadata": {},
   "outputs": [
    {
     "data": {
      "text/plain": [
       "<matplotlib.legend.Legend at 0x1ef52ecb8d0>"
      ]
     },
     "execution_count": 78,
     "metadata": {},
     "output_type": "execute_result"
    },
    {
     "data": {
      "image/png": "[encoded data removed]",
      "text/plain": [
       "<Figure size 432x288 with 1 Axes>"
      ]
     },
     "metadata": {
      "needs_background": "light"
     },
     "output_type": "display_data"
    }
   ],
   "source": [
    "x = np.linspace(0, 1, 100)\n",
    "y = 3 * np.cos(np.pi /2 * x)\n",
    "plt.plot(x, y, 'k', label = 'Exact')\n",
    "plt.plot(R, f, 'o', label = 'Numeric')\n",
    "plt.grid(True)\n",
    "plt.legend()"
   ]
  },
  {
   "cell_type": "markdown",
   "id": "75fdc9f0",
   "metadata": {},
   "source": [
    "Let's calcate our polynomial approximation and see how well it matches the exact solution."
   ]
  },
  {
   "cell_type": "code",
   "execution_count": 79,
   "id": "017cc762",
   "metadata": {},
   "outputs": [
    {
     "data": {
      "text/plain": [
       "<matplotlib.legend.Legend at 0x1ef536c4710>"
      ]
     },
     "execution_count": 79,
     "metadata": {},
     "output_type": "execute_result"
    },
    {
     "data": {
      "image/png": "[encoded data removed]",
      "text/plain": [
       "<Figure size 432x288 with 1 Axes>"
      ]
     },
     "metadata": {
      "needs_background": "light"
     },
     "output_type": "display_data"
    }
   ],
   "source": [
    "#  Calcuate the coefficients\n",
    "theta = A_inv @ f\n",
    "\n",
    "#  Gererate the polynomial object\n",
    "P = np.polynomial.Polynomial(theta)\n",
    "\n",
    "plt.plot(x, y, 'k', linewidth = 3, label = 'Exact')\n",
    "plt.plot(x, P(x), 'y', label = 'Polynomial')\n",
    "plt.grid(True)\n",
    "plt.legend()"
   ]
  },
  {
   "cell_type": "markdown",
   "id": "dec18210",
   "metadata": {},
   "source": [
    "#  Example 2\n",
    "Solve the equation,\n",
    "$$\\frac{d^2y}{dx} + 3y = 0$$\n",
    "With $y(0) = 7$ and $y(2\\pi) = 0$.\n",
    "\n",
    "The analytic solution is,\n",
    "$$y(x) = 7\\cos(\\sqrt{3}x) - 7\\cot(2\\pi\\sqrt{3})\\sin(\\sqrt{3}x). $$\n",
    "\n",
    "Let's rescale the problem. \n",
    "\n",
    "$$\\mathcal{X} = \\frac{x}{2\\pi}$$\n",
    "\n",
    "So\n",
    "$$\\frac{1}{(2\\pi)^2}\\frac{d^2y}{d\\mathcal{X}} + 3y = 0$$\n",
    "With $y(0) = 7$ and $y(1) = 0$."
   ]
  },
  {
   "cell_type": "code",
   "execution_count": 80,
   "id": "7ba022ca",
   "metadata": {},
   "outputs": [],
   "source": [
    "#  The order of polynomial for our approx solution\n",
    "N = 10"
   ]
  },
  {
   "cell_type": "code",
   "execution_count": 81,
   "id": "07874897",
   "metadata": {},
   "outputs": [],
   "source": [
    "#  Just as above, we calcuate the interior collocation points.  But this time, we need to have v\n",
    "#  a variable order.  hence the use of a dummy vector.\n",
    "dummy = np.zeros(N); dummy[-1] = 1\n",
    "L = np.polynomial.legendre.Legendre( dummy, domain=(0, 1) )\n",
    "R = L.roots()\n",
    "\n",
    "#  append the left and right boundaries.\n",
    "R = np.insert(R, 0, 0)\n",
    "R = np.append(R, 1)"
   ]
  },
  {
   "cell_type": "markdown",
   "id": "65ecbd08",
   "metadata": {},
   "source": [
    "Just as above, we build our $\\pmb{A}$ matrix and calcuate the inverse."
   ]
  },
  {
   "cell_type": "code",
   "execution_count": 82,
   "id": "33bcd6b3",
   "metadata": {},
   "outputs": [],
   "source": [
    "A = np.zeros( (N+1, N+1) )\n",
    "for i in range(N+1):\n",
    "    A[:, i] = R**i\n",
    "    \n",
    "A_inv = np.linalg.inv(A)"
   ]
  },
  {
   "cell_type": "markdown",
   "id": "e6c2601c",
   "metadata": {},
   "source": [
    "As above we don't have any first derivative terms, however we need to calcuate some coefficients to programatically calculate the second derivative matrix.\n",
    "\n",
    "We need the coefficients for the first derivative to calcuate the second.\n",
    "\n",
    "For example, the coefficient for the second derivative of $x^3$\n",
    "$$\\frac{d}{dx}x^3 = \\underbrace{3}x^2$$\n",
    "We need to remember that 3 for calcuate the second derivative.\n",
    "$$\\frac{d^2}{dx^2}x^3 = \\frac{d}{dx}3x^2 = 2(3)x$$"
   ]
  },
  {
   "cell_type": "code",
   "execution_count": 83,
   "id": "bf868a28",
   "metadata": {},
   "outputs": [],
   "source": [
    "#  First derivative coefficients\n",
    "first_coefs = np.arange(N+1)\n",
    "\n",
    "#   Second derivative coefs\n",
    "second_coefs = np.arange(N)\n",
    "second_coefs = np.insert(second_coefs, 0, 0)\n",
    "second_coefs = second_coefs * first_coefs\n",
    "\n",
    "temp = np.zeros( (N+1, N+1) )\n",
    "\n",
    "for i in range(2, N+1):\n",
    "    temp[:, i] = R**(i-2)\n",
    "    \n",
    "C = second_coefs * temp\n",
    "C = C @ A_inv"
   ]
  },
  {
   "cell_type": "code",
   "execution_count": 87,
   "id": "7f84a164",
   "metadata": {},
   "outputs": [],
   "source": [
    "#  Build the diffreential equation\n",
    "DE = np.zeros(C.shape)\n",
    "DE[0,0] = 1\n",
    "DE[-1, -1] = 1\n",
    "\n",
    "E = np.eye(C.shape[0])\n",
    "DE[1:-1,:] = 1 / (4 * np.pi**2) * C[1:-1, :] + 3 * E[1:-1,:]\n",
    "\n",
    "#  Create the vector of knowns\n",
    "knowns = np.zeros(R.size)\n",
    "knowns[0] = 7\n",
    "knowns[-1] = 0\n",
    "\n",
    "#  Again, this is linear so we can easily solve it via built-in packages.\n",
    "f = np.linalg.solve(DE, knowns)"
   ]
  },
  {
   "cell_type": "markdown",
   "id": "88e5b851",
   "metadata": {},
   "source": [
    "Let's plot our approximate solution at the collocation points."
   ]
  },
  {
   "cell_type": "code",
   "execution_count": 85,
   "id": "b669c53b",
   "metadata": {},
   "outputs": [
    {
     "data": {
      "image/png": "[encoded data removed]",
      "text/plain": [
       "<Figure size 432x288 with 1 Axes>"
      ]
     },
     "metadata": {
      "needs_background": "light"
     },
     "output_type": "display_data"
    }
   ],
   "source": [
    "x = np.linspace(0, 2 * np.pi, 100)\n",
    "y_exact = 7 * np.cos(np.sqrt(3) * x) - 7 * np.cos(2 * np.pi * np.sqrt(3) ) / np.sin(2 * np.pi * np.sqrt(3) )* np.sin(np.sqrt(3)*x)\n",
    "\n",
    "plt.plot(x / (2 *np.pi), y_exact, 'k', label = 'Exact')\n",
    "plt.plot(R, f, 'o', label = 'Numeric')\n",
    "plt.legend()\n",
    "plt.grid(True)"
   ]
  },
  {
   "cell_type": "markdown",
   "id": "a1c4b81e",
   "metadata": {},
   "source": [
    "Let's compare the polynomial approxmation to the exact solution."
   ]
  },
  {
   "cell_type": "code",
   "execution_count": 86,
   "id": "8159d5f6",
   "metadata": {},
   "outputs": [
    {
     "data": {
      "text/plain": [
       "<matplotlib.legend.Legend at 0x1ef550df048>"
      ]
     },
     "execution_count": 86,
     "metadata": {},
     "output_type": "execute_result"
    },
    {
     "data": {
      "image/png": "[encoded data removed]",
      "text/plain": [
       "<Figure size 432x288 with 1 Axes>"
      ]
     },
     "metadata": {
      "needs_background": "light"
     },
     "output_type": "display_data"
    }
   ],
   "source": [
    "theta  = A_inv @ u\n",
    "P = np.polynomial.Polynomial(theta)\n",
    "\n",
    "plt.plot(x / (2 *np.pi), y_exact, 'k', linewidth = 3, label = 'Exact')\n",
    "plt.plot(x / (2 * np.pi), P(x / (2*np.pi)), 'y', label = 'Polynomial' )\n",
    "plt.grid(True)\n",
    "plt.legend()"
   ]
  },
  {
   "cell_type": "code",
   "execution_count": null,
   "id": "80140390",
   "metadata": {},
   "outputs": [],
   "source": []
  }
 ],
 "metadata": {
  "kernelspec": {
   "display_name": "Python 3",
   "language": "python",
   "name": "python3"
  },
  "language_info": {
   "codemirror_mode": {
    "name": "ipython",
    "version": 3
   },
   "file_extension": ".py",
   "mimetype": "text/x-python",
   "name": "python",
   "nbconvert_exporter": "python",
   "pygments_lexer": "ipython3",
   "version": "3.7.1"
  }
 },
 "nbformat": 4,
 "nbformat_minor": 5
}
