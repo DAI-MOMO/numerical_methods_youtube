{
 "cells": [
  {
   "cell_type": "code",
   "execution_count": 1,
   "id": "subsequent-multiple",
   "metadata": {},
   "outputs": [],
   "source": [
    "import numpy as np\n",
    "from scipy.integrate import solve_ivp\n",
    "import matplotlib.pyplot as plt\n",
    "\n",
    "%matplotlib inline"
   ]
  },
  {
   "cell_type": "markdown",
   "id": "beginning-bulgaria",
   "metadata": {},
   "source": [
    "$$\\frac{d^2\\theta}{ds^2} = -c \\cos(\\theta)$$\n",
    "\n",
    "On the domain 0 to $L$ with $L = 600$.\n",
    "\n",
    "$$\\theta(0) = 0$$\n",
    "\n",
    "$$\\frac{d\\theta(600)}{ds} = K$$\n",
    "\n",
    "Where $K = 0.0006693734347137342$ and $c = 8.360795454545455e-07$."
   ]
  },
  {
   "cell_type": "markdown",
   "id": "wired-operation",
   "metadata": {},
   "source": [
    "###  Setting up a guess with small angle approximation\n",
    "\n",
    "For small $\\theta$, $\\cos(\\theta) \\approx 1$.\n",
    "\n",
    "$$\\frac{d^2\\theta}{ds^2} = -c$$\n",
    "so\n",
    "\n",
    "$$\\frac{d\\theta}{ds} = -cs + C_1$$\n",
    "\n",
    "$$C_1 = K + cL$$\n",
    "\n",
    "$$\\frac{d\\theta}{ds} = -cs + cL + K$$\n",
    "\n",
    "So a guess for the derivative at $s = 0$ is $cL + k$."
   ]
  },
  {
   "cell_type": "code",
   "execution_count": 62,
   "id": "secret-bradford",
   "metadata": {},
   "outputs": [],
   "source": [
    "#  Define our ODEs\n",
    "def equations(s, theta):\n",
    "    theta_prime = np.zeros(2)\n",
    "    \n",
    "    c = 8.360795454545455e-07\n",
    "\n",
    "    theta_prime[0] = theta[1]\n",
    "    theta_prime[1] = -c * np.cos(theta[0])\n",
    "\n",
    "    return theta_prime"
   ]
  },
  {
   "cell_type": "code",
   "execution_count": 57,
   "id": "smoking-science",
   "metadata": {},
   "outputs": [
    {
     "name": "stdout",
     "output_type": "stream",
     "text": [
      "Desired boundary =  6.693734347137342\n",
      "fFrom solver:  6.707752708098273\n"
     ]
    },
    {
     "data": {
      "image/png": "[encoded data removed]",
      "text/plain": [
       "<Figure size 432x288 with 1 Axes>"
      ]
     },
     "metadata": {
      "needs_background": "light"
     },
     "output_type": "display_data"
    }
   ],
   "source": [
    "#  Constants\n",
    "c = 8.360795454545455e-07\n",
    "K = 0.0006693734347137342\n",
    "L = 600\n",
    "\n",
    "#  Define range of integration\n",
    "x = np.linspace(0, L, 100)\n",
    "xspan = (x[0],x[-1])\n",
    "\n",
    "#  We use the small angle approximation for our initial guess\n",
    "initial_guess = c * L + K\n",
    "\n",
    "#  Then we adjust our guess until the derivative boundary condition is matched\n",
    "#theta_0 = [0, initial_guess]\n",
    "theta_0 = [0, 0.001145]\n",
    "\n",
    "#  Solve the system\n",
    "sol = solve_ivp(equations, xspan, theta_0, t_eval=x)\n",
    "\n",
    "#  Plot the derivative and desired boundary value\n",
    "plt.plot(x, sol.y[1,:])\n",
    "plt.plot(L, K, 'o')\n",
    "plt.title('Confirm Derivative Boundary Condition')\n",
    "plt.grid(True)\n",
    "plt.xlabel('s')\n",
    "plt.ylabel(r'$d\\theta/ds$')\n",
    "\n",
    "#  Check to see of our approximate solution is close.  I multiplied both bu 1000 to make the numbers easier to compare by eye.\n",
    "print('Desired boundary = ', 10000 * K)\n",
    "print('fFrom solver: ', 10000 * sol.y[1, -1])"
   ]
  },
  {
   "cell_type": "code",
   "execution_count": 60,
   "id": "silent-memphis",
   "metadata": {},
   "outputs": [
    {
     "data": {
      "text/plain": [
       "Text(0.5, 1.0, 'Solution')"
      ]
     },
     "execution_count": 60,
     "metadata": {},
     "output_type": "execute_result"
    },
    {
     "data": {
      "image/png": "[encoded data removed]",
      "text/plain": [
       "<Figure size 432x288 with 1 Axes>"
      ]
     },
     "metadata": {
      "needs_background": "light"
     },
     "output_type": "display_data"
    }
   ],
   "source": [
    "plt.plot(x, sol.y[0,:])\n",
    "plt.grid(True)\n",
    "plt.xlabel('s')\n",
    "plt.ylabel(r'$\\theta$')\n",
    "plt.title('Solution')"
   ]
  },
  {
   "cell_type": "markdown",
   "id": "operational-grade",
   "metadata": {},
   "source": [
    "##  With while loop"
   ]
  },
  {
   "cell_type": "code",
   "execution_count": 61,
   "id": "confused-acoustic",
   "metadata": {},
   "outputs": [
    {
     "name": "stdout",
     "output_type": "stream",
     "text": [
      "Correct initial derivative =  0.0011436729431152344\n"
     ]
    }
   ],
   "source": [
    "#  Desired tolerance\n",
    "tol = 1e-6\n",
    "\n",
    "#  Correct derivative is between these two numbers\n",
    "low =  0.001\n",
    "high = 0.002\n",
    "\n",
    "#  Counter and maximum numer of iterations to avoid infinite loops\n",
    "max_iters = 100\n",
    "count = 0\n",
    "\n",
    "while count <= max_iters:\n",
    "    count = count + 1\n",
    "    \n",
    "    #  Derivative guess is average of bounds\n",
    "    theta_prime0 = np.mean([low, high])    \n",
    "    theta_0 = [0, theta_prime0 ]\n",
    "\n",
    "    #  Solve the system\n",
    "    sol = solve_ivp(equations, xspan, theta_0, t_eval = x)\n",
    "\n",
    "    #  For ease of use, extract the function derivative values from the solution object.\n",
    "    theta_prime = sol.y[1, :]\n",
    "\n",
    "    #  Calculate percent error and break if within tolerance\n",
    "    err = np.abs(theta_prime[-1] - K) / K\n",
    "    if np.abs(err) <= tol:\n",
    "        break\n",
    "    \n",
    "    #  Adjust our bounds if we are not within tolerance\n",
    "    if theta_prime[-1] > K:\n",
    "        high = theta_prime0\n",
    "    else:\n",
    "        low = theta_prime0\n",
    "            \n",
    "\n",
    "print('Correct initial derivative = ', theta_prime0)"
   ]
  },
  {
   "cell_type": "code",
   "execution_count": 58,
   "id": "pregnant-stationery",
   "metadata": {},
   "outputs": [
    {
     "data": {
      "image/png": "[encoded data removed]",
      "text/plain": [
       "<Figure size 432x288 with 2 Axes>"
      ]
     },
     "metadata": {
      "needs_background": "light"
     },
     "output_type": "display_data"
    }
   ],
   "source": [
    "#  solve and plot the final results\n",
    "\n",
    "theta_0 = [0, theta_prime0]\n",
    "sol = solve_ivp(equations, xspan, theta_0, t_eval=x)\n",
    "\n",
    "fig, (ax1, ax2) = plt.subplots(1,2)\n",
    "\n",
    "ax1.plot(x, sol.y[0,:], 'k')\n",
    "ax1.grid(True)\n",
    "ax1.set_xlabel('s')\n",
    "ax1.set_ylabel(r'$\\theta$')\n",
    "ax1.set_title('Solution')\n",
    "\n",
    "ax2.plot(x, sol.y[1,:], 'k')\n",
    "ax2.plot(x[-1], K, 'o')\n",
    "ax2.grid(True)\n",
    "ax2.set_xlabel('s')\n",
    "ax2.set_ylabel(r'$d\\theta/ds$')\n",
    "ax2.set_title('Check Derivative Boundary')\n",
    "\n",
    "plt.tight_layout()"
   ]
  },
  {
   "cell_type": "code",
   "execution_count": null,
   "id": "happy-accordance",
   "metadata": {},
   "outputs": [],
   "source": []
  }
 ],
 "metadata": {
  "kernelspec": {
   "display_name": "Python 3",
   "language": "python",
   "name": "python3"
  },
  "language_info": {
   "codemirror_mode": {
    "name": "ipython",
    "version": 3
   },
   "file_extension": ".py",
   "mimetype": "text/x-python",
   "name": "python",
   "nbconvert_exporter": "python",
   "pygments_lexer": "ipython3",
   "version": "3.7.1"
  }
 },
 "nbformat": 4,
 "nbformat_minor": 5
}
