{
 "cells": [
  {
   "cell_type": "code",
   "execution_count": 6,
   "metadata": {},
   "outputs": [],
   "source": [
    "import numpy as np\n",
    "from scipy.sparse import diags\n",
    "from scipy.sparse.linalg import spsolve\n",
    "import matplotlib.pyplot as plt\n",
    "\n",
    "%matplotlib inline"
   ]
  },
  {
   "cell_type": "markdown",
   "metadata": {},
   "source": [
    "Solve the equation\n",
    "$$\\frac{d^2y}{dx} + 3y = 0$$\n",
    "With $y(0) = 7$ and $y(2\\pi) = 0$."
   ]
  },
  {
   "cell_type": "code",
   "execution_count": 7,
   "metadata": {},
   "outputs": [],
   "source": [
    "#  This is the exact solution to the above problem.\n",
    "def return_exact(x):\n",
    "    y = 7 * np.cos(np.sqrt(3) * x) - 7 * np.cos(2 * np.pi * np.sqrt(3) ) / np.sin(2 * np.pi * np.sqrt(3) )* np.sin(np.sqrt(3)*x)\n",
    "    \n",
    "    return y"
   ]
  },
  {
   "cell_type": "markdown",
   "metadata": {},
   "source": [
    "Finite difference approximation for the second derivative\n",
    "$$\\frac{d^2y}{dx^2} \\approx \\frac{y_{i-1} -2y_i + y_{i+1}}{\\Delta^2}$$\n",
    "\n",
    "So our equation cn be transformed to a system of algebraic equations:\n",
    "$$\\frac{y_{i-1} -2y_i + y_{i+1}}{\\Delta^2} + 3y_i = 0$$\n",
    "\n",
    "For example,\n",
    "$$\n",
    "\\begin{align*}\n",
    "y_1 & = & 7 \\\\\n",
    "\\frac{y_1 -2y_2 + y_3}{\\Delta^2} + 3y_2  &= & 0 \\\\\n",
    "\\frac{y_2 -2y_3 + y_4}{\\Delta^2} + 3y_3  &= & 0 \\\\\n",
    "\\frac{y_3 -2y_4 + y_5}{\\Delta^2} + 3y_4  &= & 0 \\\\\n",
    "\\frac{y_4 -2y_5 + y_6}{\\Delta^2} + 3y_5  &= & 0 \\\\\n",
    "y_6 & = & 0 \n",
    "\\end{align*}\n",
    "$$\n",
    "\n",
    "Or in matrix form:\n",
    "$$\n",
    "\\left[\n",
    "\\frac{1}{\\Delta^2}\n",
    "\\begin{pmatrix}\n",
    "0 & 0 & 0 & 0 & 0 & 0 \\\\\n",
    "1 & -2 & 1 & 0 & 0 & 0 \\\\\n",
    "0 & 1 & -2 & 1 & 0 & 0 \\\\\n",
    "0 & 0 & 1 & -2 & 1 & 0  \\\\\n",
    "0 & 0 & 0 & 1 & -2 & 1  \\\\\n",
    "0 & 0 & 0 & 0 & 0 & 0\n",
    "\\end{pmatrix} + \n",
    "3\n",
    "\\begin{pmatrix}\n",
    "1/3 & 0 & 0 & 0 & 0 & 0 \\\\\n",
    "0 & 1 & 0 & 0 & 0 & 0 \\\\\n",
    "0 & 0 & 1 & 0 & 0 & 0 \\\\\n",
    "0 & 0 & 0 & 1 & 0 & 0 \\\\\n",
    "0 & 0 & 0 & 0 & 1 & 0 \\\\\n",
    "0 & 0 & 0 & 0 & 0 & 1/3\n",
    "\\end{pmatrix} \\quad \\right]\n",
    "\\begin{pmatrix}\n",
    "y_1 \\\\\n",
    "y_2 \\\\\n",
    "y_3 \\\\\n",
    "y_4 \\\\\n",
    "y_5 \\\\\n",
    "y_6\n",
    "\\end{pmatrix}= \n",
    "\\begin{pmatrix}\n",
    "7 \\\\\n",
    "0 \\\\\n",
    "0 \\\\\n",
    "0 \\\\\n",
    "0 \\\\\n",
    "0 \\\\\n",
    "\\end{pmatrix}\n",
    "$$"
   ]
  },
  {
   "cell_type": "code",
   "execution_count": 8,
   "metadata": {},
   "outputs": [],
   "source": [
    "#  Define our grid\n",
    "N = 50\n",
    "x = np.linspace(0, 2 * np.pi, N)\n",
    "\n",
    "# Calculate the grid spacing.  Since we are using a uniform sequence, all the values are the same so we only need one entry of the resulting diff array.\n",
    "Delta = np.diff(x)\n",
    "Delta = Delta[0]\n",
    "\n",
    "#  Define the diagonal elements for the second derivative matrix\n",
    "D = -2 * np.ones(N)\n",
    "Dm1 = np.ones(N-1)\n",
    "D1 = np.ones(N-1)\n",
    "\n",
    "#  Create the matrix\n",
    "M1 = diags([Dm1, D, D1], [-1, 0, 1], shape = (N, N), format = 'csc')\n",
    "\n",
    "#  Divide through by 1/Delta**2 prefactor\n",
    "M1 = M1 / Delta**2\n",
    "\n",
    "#  Reset the elements corrisponding to the boundary values\n",
    "M1[0, 0] = 1\n",
    "M1[0, 1] = 0\n",
    "M1[-1, -1] = 1\n",
    "M1[-1, -2] = 0\n",
    "\n",
    "#  Create out 3y diagonal matrix and set the boundary value elements\n",
    "M2 = diags( 3 * np.ones(N), 0, shape = (N,N), format = 'csc')\n",
    "M2[0,0] = 0\n",
    "M2[-1, -1] = 0\n",
    "\n",
    "M = M1 + M2\n",
    "\n",
    "#  This is the vector of known values from the RHS of our matrix above.\n",
    "b = np.zeros(N)\n",
    "b[0] = 7\n",
    "\n",
    "#  Solve the system\n",
    "y = spsolve(M, b)"
   ]
  },
  {
   "cell_type": "markdown",
   "metadata": {},
   "source": [
    "###  Plot the exact soluition and the numerical estimate"
   ]
  },
  {
   "cell_type": "code",
   "execution_count": 11,
   "metadata": {},
   "outputs": [
    {
     "data": {
      "text/plain": [
       "Text(0, 0.5, 'y')"
      ]
     },
     "execution_count": 11,
     "metadata": {},
     "output_type": "execute_result"
    },
    {
     "data": {
      "image/png": "[encoded data removed]",
      "text/plain": [
       "<Figure size 432x288 with 1 Axes>"
      ]
     },
     "metadata": {
      "needs_background": "light"
     },
     "output_type": "display_data"
    }
   ],
   "source": [
    "plt.plot(x, return_exact(x), 'k', label='Exact')\n",
    "plt.plot(x, y, 'b.', label='Finite Difference')\n",
    "plt.grid(True)\n",
    "plt.legend()\n",
    "plt.xlabel('x')\n",
    "plt.ylabel('y')"
   ]
  },
  {
   "cell_type": "markdown",
   "metadata": {},
   "source": [
    "### Calculate and plot the error"
   ]
  },
  {
   "cell_type": "code",
   "execution_count": 12,
   "metadata": {},
   "outputs": [
    {
     "data": {
      "text/plain": [
       "Text(0, 0.5, 'Error')"
      ]
     },
     "execution_count": 12,
     "metadata": {},
     "output_type": "execute_result"
    },
    {
     "data": {
      "image/png": "[encoded data removed]",
      "text/plain": [
       "<Figure size 432x288 with 1 Axes>"
      ]
     },
     "metadata": {
      "needs_background": "light"
     },
     "output_type": "display_data"
    }
   ],
   "source": [
    "E = y - return_exact(x)\n",
    "plt.plot(x, E, 'k')\n",
    "plt.grid(True)\n",
    "plt.xlabel('x')\n",
    "plt.ylabel('Error')"
   ]
  },
  {
   "cell_type": "code",
   "execution_count": null,
   "metadata": {},
   "outputs": [],
   "source": []
  }
 ],
 "metadata": {
  "kernelspec": {
   "display_name": "Python 3",
   "language": "python",
   "name": "python3"
  },
  "language_info": {
   "codemirror_mode": {
    "name": "ipython",
    "version": 3
   },
   "file_extension": ".py",
   "mimetype": "text/x-python",
   "name": "python",
   "nbconvert_exporter": "python",
   "pygments_lexer": "ipython3",
   "version": "3.7.1"
  }
 },
 "nbformat": 4,
 "nbformat_minor": 4
}
