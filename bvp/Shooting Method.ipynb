{
 "cells": [
  {
   "cell_type": "code",
   "execution_count": 1,
   "metadata": {},
   "outputs": [],
   "source": [
    "import numpy as np\n",
    "from scipy.integrate import solve_ivp\n",
    "import matplotlib.pyplot as plt\n",
    "\n",
    "%matplotlib inline"
   ]
  },
  {
   "cell_type": "markdown",
   "metadata": {},
   "source": [
    "$$\\frac{d^2y}{dt^2} = f\\left(t, y, \\frac{dy}{dt}\\right)$$\n",
    "Subject to,\n",
    "$$\\alpha_1 y(a) + \\beta_1\\frac{dy(a)}{dt} = \\gamma_1$$\n",
    "and\n",
    "$$\\alpha_2 y(b) + \\beta_2\\frac{dy(b)}{dt} = \\gamma_2$$"
   ]
  },
  {
   "cell_type": "markdown",
   "metadata": {},
   "source": [
    "##  Example 1\n",
    "Solve the equation\n",
    "$$\\frac{d^2y}{dx} + 3y = 0$$\n",
    "With $y(0) = 7$ and $y(2\\pi) = 0$.\n",
    "\n",
    "The analytic solution is,\n",
    "$$y(x) = 7\\cos(\\sqrt{3}x) - 7\\cot(2\\pi\\sqrt{3})\\sin(\\sqrt{3}x). $$\n",
    "\n",
    "For those interested, i took this problem from a university webpage for a differental equations class.  If you are interested in seing how to solve this by hand, it can be found here:  https://tutorial.math.lamar.edu/classes/de/BoundaryValueProblem.aspx\n",
    "\n",
    "Let's code up this solution to compare with our numerical results later."
   ]
  },
  {
   "cell_type": "code",
   "execution_count": 2,
   "metadata": {},
   "outputs": [],
   "source": [
    "x = np.linspace(0, 2 * np.pi, 100)\n",
    "y_exact = 7 * np.cos(np.sqrt(3) * x) - 7 * np.cos(2 * np.pi * np.sqrt(3) ) / np.sin(2 * np.pi * np.sqrt(3) )* np.sin(np.sqrt(3)*x)\n",
    "\n",
    "#plt.plot(x, y_exact, 'k')"
   ]
  },
  {
   "cell_type": "markdown",
   "metadata": {},
   "source": [
    "We need to code up our second-order equation as a system of two first-order equations"
   ]
  },
  {
   "cell_type": "code",
   "execution_count": 3,
   "metadata": {},
   "outputs": [],
   "source": [
    "def equations(x, y):\n",
    "    yprime = np.zeros(2)\n",
    "    \n",
    "    yprime[0] = y[1]\n",
    "    yprime[1] = -3 * y[0]\n",
    "    \n",
    "    return yprime"
   ]
  },
  {
   "cell_type": "markdown",
   "metadata": {},
   "source": [
    "We will use an iteration scheme to adjust the values of the initial conditions such that we match the boundary conditions. What type of iteration scheme to use is up to you. I will define high and low bounds and set our natural guess As the meaning of those two points.   I will then adjust the bounds depending on whether we overshoot or undershoot our boundary. The exact way to adjust the bounds is problem dependent. "
   ]
  },
  {
   "cell_type": "code",
   "execution_count": 4,
   "metadata": {},
   "outputs": [
    {
     "data": {
      "text/plain": [
       "<matplotlib.legend.Legend at 0x198d07f10b8>"
      ]
     },
     "execution_count": 4,
     "metadata": {},
     "output_type": "execute_result"
    },
    {
     "data": {
      "image/png": "[encoded data removed]",
      "text/plain": [
       "<Figure size 432x288 with 1 Axes>"
      ]
     },
     "metadata": {
      "needs_background": "light"
     },
     "output_type": "display_data"
    }
   ],
   "source": [
    "tol = 1e-6\n",
    "max_iters = 100\n",
    "low = -10\n",
    "high = 10\n",
    "count = 0\n",
    "\n",
    "while count <= max_iters:\n",
    "    count = count + 1\n",
    "    xspan = (x[0], x[-1])\n",
    "    \n",
    "    #  Use the midpoint between high and low as our guess\n",
    "    yprime0 = np.mean([low, high])\n",
    "    \n",
    "    #  Set the initial condition vector to be passed into the solver\n",
    "    y0 = [7, yprime0 ]\n",
    "\n",
    "    # Solve the system using our guess\n",
    "    sol = solve_ivp(equations, xspan, y0, t_eval = x)\n",
    "\n",
    "    #  For ease of use, extract the function values from the solution object.\n",
    "    y_num = sol.y[0, :]\n",
    "\n",
    "    #  Check to see if we within our desire tolerance\n",
    "    if np.abs(y_num[-1]) <= tol:\n",
    "        break\n",
    "    \n",
    "    #  Adjust our bounds if we are not within tolerance\n",
    "    if y_num[-1] < 0:\n",
    "        high = yprime0\n",
    "    else:\n",
    "        low = yprime0\n",
    "        \n",
    "    #print(count, y_num[-1])\n",
    "    \n",
    "#  Plot the solution and compare it to the analytical form defined above\n",
    "plt.plot(x, y_exact, 'k', label='Exact')\n",
    "plt.plot(x, y_num, 'b.', label='Numeric')\n",
    "plt.plot([0, 2*np.pi], [7,0], 'bo')\n",
    "plt.grid(True)\n",
    "plt.xlabel('x')\n",
    "plt.ylabel('y')\n",
    "plt.legend()"
   ]
  },
  {
   "cell_type": "code",
   "execution_count": null,
   "metadata": {},
   "outputs": [],
   "source": []
  }
 ],
 "metadata": {
  "kernelspec": {
   "display_name": "Python 3",
   "language": "python",
   "name": "python3"
  },
  "language_info": {
   "codemirror_mode": {
    "name": "ipython",
    "version": 3
   },
   "file_extension": ".py",
   "mimetype": "text/x-python",
   "name": "python",
   "nbconvert_exporter": "python",
   "pygments_lexer": "ipython3",
   "version": "3.7.1"
  }
 },
 "nbformat": 4,
 "nbformat_minor": 2
}
