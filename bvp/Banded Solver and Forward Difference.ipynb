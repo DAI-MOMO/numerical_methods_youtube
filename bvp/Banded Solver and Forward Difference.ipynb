{
 "cells": [
  {
   "cell_type": "code",
   "execution_count": 32,
   "id": "sorted-knife",
   "metadata": {},
   "outputs": [],
   "source": [
    "# Numpy\n",
    "import numpy as np\n",
    "\n",
    "#  Sparse matrix tools\n",
    "from scipy.sparse import csc_matrix\n",
    "from scipy.sparse import spdiags, eye\n",
    "from scipy.sparse.linalg import spsolve\n",
    "\n",
    "#  Banded solver\n",
    "from scipy.linalg import solve_banded\n",
    "\n",
    "#  For diagnostics\n",
    "from scipy.interpolate import CubicSpline\n",
    "\n",
    "#  Plotting stuff\n",
    "import matplotlib.pyplot as plt\n",
    "%matplotlib inline"
   ]
  },
  {
   "cell_type": "code",
   "execution_count": 33,
   "id": "bigger-halloween",
   "metadata": {},
   "outputs": [],
   "source": [
    "N = 100\n",
    "x = np.linspace(0, np.pi/2, N)\n",
    "Delta = np.diff(x); Delta = Delta[0]\n",
    "\n",
    "knowns = np.zeros(x.size)\n",
    "knowns[0] = 1\n",
    "knowns[-1] = 0"
   ]
  },
  {
   "cell_type": "markdown",
   "id": "owned-cocktail",
   "metadata": {},
   "source": [
    "# solve_banded\n",
    "\n",
    "We will look at the linear equation,\n",
    "\n",
    "$$\\frac{d^2 y}{dx^2} + y = 0,$$\n",
    "\n",
    "subject to $y(0) = 1$, and $y(\\pi/2) = 0$.\n",
    "\n",
    "\n",
    "For example,\n",
    "$$\n",
    "\\begin{align*}\n",
    "y_1 & = & 1 \\\\\n",
    "\\frac{y_1 -2y_2 + y_3}{\\Delta^2} + y_2  &= & 0 \\\\\n",
    "\\frac{y_2 -2y_3 + y_4}{\\Delta^2} + y_3  &= & 0 \\\\\n",
    "\\frac{y_3 -2y_4 + y_5}{\\Delta^2} + y_4  &= & 0 \\\\\n",
    "\\frac{y_4 -2y_5 + y_6}{\\Delta^2} + y_5  &= & 0 \\\\\n",
    "y_6 & = & 0 \n",
    "\\end{align*}\n",
    "$$\n",
    "\n",
    "Or in matrix form,\n",
    "\n",
    "$$\n",
    "\\frac{1}{\\Delta^2}\n",
    "\\begin{pmatrix}\n",
    "0 & 0 & 0 & 0 & 0 & 0 \\\\\n",
    "1 & -2 & 1 & 0 & 0 & 0 \\\\\n",
    "0 & 1 & -2 & 1 & 0 & 0 \\\\\n",
    "0 & 0 & 1 & -2 & 1 & 0  \\\\\n",
    "0 & 0 & 0 & 1 & -2 & 1  \\\\\n",
    "0 & 0 & 0 & 0 & 0 & 0\n",
    "\\end{pmatrix} \n",
    "\\begin{pmatrix}\n",
    "y_1 \\\\\n",
    "y_2 \\\\\n",
    "y_3 \\\\\n",
    "y_4 \\\\\n",
    "y_5 \\\\\n",
    "y_6\n",
    "\\end{pmatrix}+ \n",
    "\\begin{pmatrix}\n",
    "1 & 0 & 0 & 0 & 0 & 0 \\\\\n",
    "0 & 1 & 0 & 0 & 0 & 0 \\\\\n",
    "0 & 0 & 1 & 0 & 0 & 0 \\\\\n",
    "0 & 0 & 0 & 1 & 0 & 0 \\\\\n",
    "0 & 0 & 0 & 0 & 1 & 0 \\\\\n",
    "0 & 0 & 0 & 0 & 0 & 1\n",
    "\\end{pmatrix}\n",
    "\\begin{pmatrix}\n",
    "y_1 \\\\\n",
    "y_2 \\\\\n",
    "y_3 \\\\\n",
    "y_4 \\\\\n",
    "y_5 \\\\\n",
    "y_6\n",
    "\\end{pmatrix}= \n",
    "\\begin{pmatrix}\n",
    "1 \\\\\n",
    "0 \\\\\n",
    "0 \\\\\n",
    "0 \\\\\n",
    "0 \\\\\n",
    "0 \\\\\n",
    "\\end{pmatrix}\n",
    "$$\n",
    "\n",
    "\n",
    "Factoring out the column vector,\n",
    "$$\n",
    "\\left[\n",
    "\\frac{1}{\\Delta^2}\n",
    "\\begin{pmatrix}\n",
    "0 & 0 & 0 & 0 & 0 & 0 \\\\\n",
    "1 & -2 & 1 & 0 & 0 & 0 \\\\\n",
    "0 & 1 & -2 & 1 & 0 & 0 \\\\\n",
    "0 & 0 & 1 & -2 & 1 & 0  \\\\\n",
    "0 & 0 & 0 & 1 & -2 & 1  \\\\\n",
    "0 & 0 & 0 & 0 & 0 & 0\n",
    "\\end{pmatrix} \n",
    "+ \n",
    "\\begin{pmatrix}\n",
    "1 & 0 & 0 & 0 & 0 & 0 \\\\\n",
    "0 & 1 & 0 & 0 & 0 & 0 \\\\\n",
    "0 & 0 & 1 & 0 & 0 & 0 \\\\\n",
    "0 & 0 & 0 & 1 & 0 & 0 \\\\\n",
    "0 & 0 & 0 & 0 & 1 & 0 \\\\\n",
    "0 & 0 & 0 & 0 & 0 & 1\n",
    "\\end{pmatrix} \\right]\\quad\n",
    "\\begin{pmatrix}\n",
    "y_1 \\\\\n",
    "y_2 \\\\\n",
    "y_3 \\\\\n",
    "y_4 \\\\\n",
    "y_5 \\\\\n",
    "y_6\n",
    "\\end{pmatrix}= \n",
    "\\begin{pmatrix}\n",
    "1 \\\\\n",
    "0 \\\\\n",
    "0 \\\\\n",
    "0 \\\\\n",
    "0 \\\\\n",
    "0 \\\\\n",
    "\\end{pmatrix}\n",
    "$$"
   ]
  },
  {
   "cell_type": "code",
   "execution_count": 34,
   "id": "satisfied-three",
   "metadata": {},
   "outputs": [
    {
     "data": {
      "text/plain": [
       "Text(0, 0.5, 'y')"
      ]
     },
     "execution_count": 34,
     "metadata": {},
     "output_type": "execute_result"
    },
    {
     "data": {
      "image/png": "[encoded data removed]",
      "text/plain": [
       "<Figure size 432x288 with 1 Axes>"
      ]
     },
     "metadata": {
      "needs_background": "light"
     },
     "output_type": "display_data"
    }
   ],
   "source": [
    "LU = (1, 1)\n",
    "\n",
    "upper = np.ones( (N, )) / Delta **2\n",
    "main = -2 / Delta**2 * np.ones( (N, ) ) + 1\n",
    "lower = np.ones( (N, )) / Delta **2\n",
    "\n",
    "main[0] = 1\n",
    "main[-1] = 1\n",
    "\n",
    "upper[0] = 0; upper[1] = 0\n",
    "lower[-1] = 0; lower[-2] = 0\n",
    "\n",
    "ab = [upper, main, lower]\n",
    "\n",
    "y = solve_banded(LU, ab, knowns)\n",
    "\n",
    "plt.plot(x, y, 'k')\n",
    "plt.grid(True)\n",
    "plt.xlabel('x')\n",
    "plt.ylabel('y')"
   ]
  },
  {
   "cell_type": "markdown",
   "id": "alert-uruguay",
   "metadata": {},
   "source": [
    "# Forward Difference\n",
    "\n",
    "We will look at the linear equation,\n",
    "\n",
    "$$\\frac{d^2 y}{dx^2} + y = 0,$$\n",
    "\n",
    "subject to $y(0) = 1$, and $y(\\pi/2) = 0$.\n",
    "\n",
    "## Central Difference Formula\n",
    "\n",
    "With the central difference formula, the second derivative at the $i$th point is estimated using the point in question ($i$th) the the ones immediately behind and ahead (the $i-1$ point and the $i+1$ point).  See the equations below.\n",
    "\n",
    "$$\\frac{d^2y}{dx^2} \\approx \\frac{y_{i-1} -2y_i + y_{i+1}}{\\Delta^2}$$\n",
    "\n",
    "Our system of equations was,\n",
    "$$\n",
    "\\begin{align*}\n",
    "y_1 & = & 1 \\\\\n",
    "\\frac{y_1 -2y_2 + y_3}{\\Delta^2} + y_2  &= & 0 \\\\\n",
    "\\frac{y_2 -2y_3 + y_4}{\\Delta^2} + y_3  &= & 0 \\\\\n",
    "\\frac{y_3 -2y_4 + y_5}{\\Delta^2} + y_4  &= & 0 \\\\\n",
    "\\frac{y_4 -2y_5 + y_6}{\\Delta^2} + y_5  &= & 0 \\\\\n",
    "y_6 & = & 0 \n",
    "\\end{align*}\n",
    "$$\n",
    "\n",
    "##  Forward Difference Formula\n",
    "Our  second derivative approximation is,\n",
    "$$\\frac{d^2y}{dx^2} \\approx \\frac{y_{i} -2y_{i+1} + y_{i+2}}{\\Delta^2}$$\n",
    "\n",
    "In other words, we are using the points at $i$, $i+1$, and $i+2$.\n",
    "Our system of equations is,\n",
    "\n",
    "$$\n",
    "\\begin{align*}\n",
    "y_1 & = & 1 \\\\\n",
    "\\frac{y_2 -2y_3 + y_5}{\\Delta^2} + y_2  &= & 0 \\\\\n",
    "\\frac{y_3 -2y_4 + y_5}{\\Delta^2} + y_3  &= & 0 \\\\\n",
    "\\frac{y_4 -2y_5 + y_6}{\\Delta^2} + y_4  &= & 0 \\\\\n",
    "\\frac{y_5 -2y_6 + y_7}{\\Delta^2} + y_5  &= & 0 \\\\\n",
    "y_6 & = & 0 \n",
    "\\end{align*}\n",
    "$$\n",
    "\n",
    "For this problem, note the issue with the second to last equation.  It needs the seventh point which is outside our range.  If one wishes to use this method, this must be addressed.  A second issue is there is no equations that couple the first point to the others.  Again, this needs to be dealt with if one wants to use forward differencing.\n",
    "\n",
    "In matrix form aside from the fifth line, we have,\n",
    "$$\n",
    "\\left[\n",
    "\\frac{1}{\\Delta^2}\n",
    "\\begin{pmatrix}\n",
    "0 & 0 & 0 & 0 & 0 & 0 \\\\\n",
    "0 & 1 & -2 & 1 & 0 & 0 \\\\\n",
    "0 & 0 & 1 & -2 & 1 & 0 \\\\\n",
    "0 & 0 & 0 & 1 & -2 & 1  \\\\\n",
    "0 & 0 & 0 & 0 & 1 & -2  \\\\\n",
    "0 & 0 & 0 & 0 & 0 & 0\n",
    "\\end{pmatrix} \n",
    "+ \n",
    "\\begin{pmatrix}\n",
    "1 & 0 & 0 & 0 & 0 & 0 \\\\\n",
    "0 & 1 & 0 & 0 & 0 & 0 \\\\\n",
    "0 & 0 & 1 & 0 & 0 & 0 \\\\\n",
    "0 & 0 & 0 & 1 & 0 & 0 \\\\\n",
    "0 & 0 & 0 & 0 & 1 & 0 \\\\\n",
    "0 & 0 & 0 & 0 & 0 & 1\n",
    "\\end{pmatrix} \\right]\\quad\n",
    "\\begin{pmatrix}\n",
    "y_1 \\\\\n",
    "y_2 \\\\\n",
    "y_3 \\\\\n",
    "y_4 \\\\\n",
    "y_5 \\\\\n",
    "y_6\n",
    "\\end{pmatrix}= \n",
    "\\begin{pmatrix}\n",
    "1 \\\\\n",
    "0 \\\\\n",
    "0 \\\\\n",
    "0 \\\\\n",
    "0 \\\\\n",
    "0 \\\\\n",
    "\\end{pmatrix}\n",
    "$$\n",
    "\n",
    "Again, please note that the fifth line in the above left-hand matrix is wrong.\n",
    "\n",
    "Let's ignore this for the moment and work through the problem so we can see both this issue and the lack of coupling between $y_1$ and the other values of $y$.  We'll sey $N=6$ just as in the text above."
   ]
  },
  {
   "cell_type": "code",
   "execution_count": 37,
   "id": "broke-diabetes",
   "metadata": {},
   "outputs": [
    {
     "data": {
      "text/plain": [
       "[<matplotlib.lines.Line2D at 0x1c86f62a7f0>]"
      ]
     },
     "execution_count": 37,
     "metadata": {},
     "output_type": "execute_result"
    },
    {
     "data": {
      "image/png": "[encoded data removed]",
      "text/plain": [
       "<Figure size 432x288 with 1 Axes>"
      ]
     },
     "metadata": {
      "needs_background": "light"
     },
     "output_type": "display_data"
    }
   ],
   "source": [
    "N = 6\n",
    "x = np.linspace(0, np.pi/2, N)\n",
    "Delta = np.diff(x); Delta = Delta[0]\n",
    "\n",
    "temp = [np.ones( x.size), -2 * np.ones(x.size), np.ones( x.size)]\n",
    "D2 = spdiags(temp, [0, 1, 2], x.size, x.size, format = 'csc')\n",
    "\n",
    "E = eye(x.size, format = 'csc')\n",
    "\n",
    "#  Build matrix equation\n",
    "M = D2/Delta**2 + E\n",
    "M[0,0] = 1; M[0,1] = 0; M[0, 2] = 0\n",
    "M[-1, -1] = 1\n",
    "\n",
    "#  Our vector of knowns\n",
    "knowns = np.zeros(x.size); knowns[0] = 1; knowns[-1] = -0\n",
    "\n",
    "#  Solve the system\n",
    "y = spsolve(M, knowns)\n",
    "plt.plot(x, y, 'k.')"
   ]
  },
  {
   "cell_type": "markdown",
   "id": "extended-pathology",
   "metadata": {},
   "source": [
    "It is obvious from the plot above that there is an uuse.  Let's use the spy command to visualize what our matrix plloks like."
   ]
  },
  {
   "cell_type": "code",
   "execution_count": 36,
   "id": "opposed-uncertainty",
   "metadata": {},
   "outputs": [
    {
     "data": {
      "text/plain": [
       "<matplotlib.lines.Line2D at 0x1c86f5c74a8>"
      ]
     },
     "execution_count": 36,
     "metadata": {},
     "output_type": "execute_result"
    },
    {
     "data": {
      "image/png": "[encoded data removed]",
      "text/plain": [
       "<Figure size 432x288 with 1 Axes>"
      ]
     },
     "metadata": {
      "needs_background": "light"
     },
     "output_type": "display_data"
    }
   ],
   "source": [
    "plt.spy(M)"
   ]
  },
  {
   "cell_type": "markdown",
   "id": "behavioral-mandate",
   "metadata": {},
   "source": [
    "Above, we can quickly see that we are not linking the first with point to the others-- there are no other entries in the first column.  Let's redo this using a central difference formula for the the first row, $(i  = 2)$ and the second to last rown $(i = N-1)$."
   ]
  },
  {
   "cell_type": "code",
   "execution_count": 38,
   "id": "ruled-rally",
   "metadata": {},
   "outputs": [
    {
     "data": {
      "text/plain": [
       "[<matplotlib.lines.Line2D at 0x1c86f6a1198>]"
      ]
     },
     "execution_count": 38,
     "metadata": {},
     "output_type": "execute_result"
    },
    {
     "data": {
      "image/png": "[encoded data removed]",
      "text/plain": [
       "<Figure size 432x288 with 1 Axes>"
      ]
     },
     "metadata": {
      "needs_background": "light"
     },
     "output_type": "display_data"
    }
   ],
   "source": [
    "N = 6\n",
    "x = np.linspace(0, np.pi/2, N)\n",
    "Delta = np.diff(x); Delta = Delta[0]\n",
    "\n",
    "temp = [np.ones( x.size), -2 * np.ones(x.size), np.ones( x.size)]\n",
    "D2 = spdiags(temp, [0, 1, 2], x.size, x.size, format = 'csc')\n",
    "\n",
    "E = eye(x.size, format = 'csc')\n",
    "\n",
    "#  Build matrix equation\n",
    "M = D2/Delta**2 + E\n",
    "M[0,0] = 1; M[0,1] = 0; M[0, 2] = 0\n",
    "M[-1, -1] = 1\n",
    "\n",
    "#  Make second row central difference\n",
    "M[1,3] = 0\n",
    "M[1,0] = 1/Delta**2\n",
    "M[1,1] = -2/Delta**2 + 1\n",
    "M[1,2] = 1/Delta**2\n",
    "\n",
    "M[-2, -4] = 0\n",
    "M[-2, -3] = 1/Delta**2\n",
    "M[-2, -2] = -2/Delta**2 + 1\n",
    "M[-2, -1] = 1/Delta**2\n",
    "\n",
    "#  Vector of knowns\n",
    "knowns = np.zeros(x.size); knowns[0] = 1; knowns[-1] = -0\n",
    "\n",
    "#  Solve the system\n",
    "y = spsolve(M, knowns)\n",
    "plt.plot(x, y, 'k.')"
   ]
  },
  {
   "cell_type": "code",
   "execution_count": 39,
   "id": "written-definition",
   "metadata": {},
   "outputs": [
    {
     "data": {
      "text/plain": [
       "<matplotlib.lines.Line2D at 0x1c86f6f5cf8>"
      ]
     },
     "execution_count": 39,
     "metadata": {},
     "output_type": "execute_result"
    },
    {
     "data": {
      "image/png": "[encoded data removed]",
      "text/plain": [
       "<Figure size 432x288 with 1 Axes>"
      ]
     },
     "metadata": {
      "needs_background": "light"
     },
     "output_type": "display_data"
    }
   ],
   "source": [
    "plt.spy(M)"
   ]
  },
  {
   "cell_type": "markdown",
   "id": "aggressive-wright",
   "metadata": {},
   "source": [
    "In the video, I said I didn't know why this wasn't working.  It is because now we are not coupling the $i=1$ variable to the others.\n",
    "\n",
    "In the video I mentioned this almost works with the backwards diferencing method.  This is only true because of the numers used in the problem.  The same issue would arise but in the backwards case, we are not coupling to the second-to-last variable.  See below."
   ]
  },
  {
   "cell_type": "code",
   "execution_count": 40,
   "id": "continuous-german",
   "metadata": {},
   "outputs": [
    {
     "data": {
      "text/plain": [
       "<matplotlib.lines.Line2D at 0x1c86f79dda0>"
      ]
     },
     "execution_count": 40,
     "metadata": {},
     "output_type": "execute_result"
    },
    {
     "data": {
      "image/png": "[encoded data removed]",
      "text/plain": [
       "<Figure size 432x288 with 1 Axes>"
      ]
     },
     "metadata": {
      "needs_background": "light"
     },
     "output_type": "display_data"
    },
    {
     "data": {
      "image/png": "[encoded data removed]",
      "text/plain": [
       "<Figure size 432x288 with 1 Axes>"
      ]
     },
     "metadata": {
      "needs_background": "light"
     },
     "output_type": "display_data"
    }
   ],
   "source": [
    "#  Set the number of grid points, define our x-values and working out the grid spacing\n",
    "N = 6\n",
    "x = np.linspace(0, np.pi/2, N)\n",
    "Delta = np.diff(x); Delta = Delta[0]\n",
    "\n",
    "temp = [np.ones( x.size), -2 * np.ones(x.size), np.ones( x.size)]\n",
    "D2 = spdiags(temp, [0, -1, -2], x.size, x.size, format = 'csc')\n",
    "\n",
    "E = eye(x.size, format = 'csc')\n",
    "\n",
    "#  Build matrix equation\n",
    "M = D2/Delta**2 + E\n",
    "M[0,0] = 1; M[0,1] = 0; M[0, 2] = 0\n",
    "M[-1, -1] = 1\n",
    "\n",
    "M[-1,-2] = 0\n",
    "M[-1,-3] = 0\n",
    "\n",
    "#  Make second row central difference\n",
    "M[1,3] = 0\n",
    "M[1,0] = 1/Delta**2\n",
    "M[1,1] = -2/Delta**2 + 1\n",
    "M[1,2] = 1/Delta**2\n",
    "\n",
    "M[-2, -4] = 0\n",
    "M[-2, -3] = 1/Delta**2\n",
    "M[-2, -2] = -2/Delta**2 + 1\n",
    "M[-2, -1] = 1/Delta**2\n",
    "\n",
    "knowns = np.zeros(x.size); knowns[0] = 1; knowns[-1] = -0\n",
    "\n",
    "#  Solve the system\n",
    "y = spsolve(M, knowns)\n",
    "plt.plot(x, y, 'k')\n",
    "\n",
    "plt.figure()\n",
    "plt.spy(M)\n",
    "#print(y[1])"
   ]
  },
  {
   "cell_type": "code",
   "execution_count": null,
   "id": "stretch-syria",
   "metadata": {},
   "outputs": [],
   "source": []
  }
 ],
 "metadata": {
  "kernelspec": {
   "display_name": "Python 3",
   "language": "python",
   "name": "python3"
  },
  "language_info": {
   "codemirror_mode": {
    "name": "ipython",
    "version": 3
   },
   "file_extension": ".py",
   "mimetype": "text/x-python",
   "name": "python",
   "nbconvert_exporter": "python",
   "pygments_lexer": "ipython3",
   "version": "3.7.1"
  }
 },
 "nbformat": 4,
 "nbformat_minor": 5
}
