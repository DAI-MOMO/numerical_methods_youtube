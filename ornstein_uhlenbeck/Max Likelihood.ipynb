{
 "cells": [
  {
   "cell_type": "code",
   "execution_count": 1,
   "id": "9862fbcf",
   "metadata": {},
   "outputs": [],
   "source": [
    "import numpy as np\n",
    "import matplotlib.pyplot as plt\n",
    "from scipy.stats import norm\n",
    "from scipy.optimize import minimize\n",
    "\n",
    "%matplotlib inline"
   ]
  },
  {
   "cell_type": "markdown",
   "id": "820341a1",
   "metadata": {},
   "source": [
    "# Likelihood and Maximum Likelihood Estimation\n",
    "\n",
    "The normal density function is given by,\n",
    "$$\n",
    "f(x) = \\frac{1}{\\sigma \\sqrt{2\\pi}} e^{-\\frac{1}{2}\\left(\n",
    "    \\frac{x-\\mu}{\\sigma} \\right)^2}\n",
    "$$\n",
    "\n",
    "The likelihood of of an observed x-value, say $x_1$ is simply $\\mathscr{l} = f(x_1)$.  If there are multple x-values, $x_1, x_2, x_3, \\cdots , x_N$, the the likelihood is given py the product of the individual likelihoods,\n",
    "$$\n",
    "\\mathscr{l} = \\prod_{i=1}^N f(x_i)\n",
    "$$\n",
    "\n",
    "We want to find $\\mu$ and $\\sigma$ given a bunch of x-values and assuming a normal distribution.  We do this my choosing $\\mu$ and $\\sigma$ as to maximize the likelihood.  In practice, one actually maximizes the log of the likelihood as this doesn't affect the estiamted values of our unknown parameters, but does simplify the calculation, both analytically and numerically.\n",
    "\n",
    "See the Wikipedia article on maximum likelihood and the derivation for the normal distribution:  https://en.wikipedia.org/wiki/Maximum_likelihood_estimation#Continuous_distribution,_continuous_parameter_space\n",
    "\n",
    "\n",
    "We find the maximum by setting the derivatives equal to zero:\n",
    "\n",
    "$$\\frac{d\\ln(\\mathscr{l})}{d\\mu} = 0$$\n",
    "and\n",
    "$$\n",
    "\\frac{d\\ln(\\mathscr{l})}{d\\sigma} = 0\n",
    "$$\n",
    "\n",
    "If we solve these we get,\n",
    "$$\n",
    "\\mu^* = \\frac{1}{N}\\sum^N_{i = 1} x_i\n",
    "$$\n",
    "and\n",
    "$$\\sigma^* = \\sqrt{\n",
    "\\frac{1}{N}\\sum^N_{i=1} (x_i - \\mu^*)^2}\n",
    "$$\n",
    "\n",
    "The results for the normal distribution turn out to be the sample mean and standard deviation"
   ]
  },
  {
   "cell_type": "code",
   "execution_count": 9,
   "id": "856199fb",
   "metadata": {},
   "outputs": [
    {
     "name": "stdout",
     "output_type": "stream",
     "text": [
      "0.03315904626424956\n",
      "0.08065690817304778\n",
      "0.0026745061496414196\n"
     ]
    },
    {
     "data": {
      "image/png": "[encoded data removed]",
      "text/plain": [
       "<Figure size 432x288 with 1 Axes>"
      ]
     },
     "metadata": {
      "needs_background": "light"
     },
     "output_type": "display_data"
    }
   ],
   "source": [
    "mu = 2\n",
    "sigma = 3\n",
    "\n",
    "x = np.linspace(-10, 13)\n",
    "y = norm.pdf(x, loc = mu, scale = sigma)\n",
    "\n",
    "plt.plot(x, y, 'k')\n",
    "plt.grid(True)\n",
    "\n",
    "x1 = 7\n",
    "x2 = -1\n",
    "\n",
    "plt.plot(x1, 0, 'bo')\n",
    "plt.plot(x2, 0, 'bo')\n",
    "\n",
    "l1 = norm.pdf(x1, loc = mu, scale = sigma)\n",
    "l2 = norm.pdf(x2, loc = mu, scale = sigma)\n",
    "\n",
    "print(l1)\n",
    "print(l2)\n",
    "\n",
    "print(l1 * l2)"
   ]
  },
  {
   "cell_type": "code",
   "execution_count": 15,
   "id": "892f281f",
   "metadata": {},
   "outputs": [],
   "source": [
    "def log_likelihood(p, x):\n",
    "    mu = p[0]\n",
    "    sigma = p[1]\n",
    "    \n",
    "    l = np.sum( np.log( norm.pdf(x, loc = mu, scale = sigma) ) )\n",
    "    \n",
    "    return -l \n",
    "\n",
    "def constraint(p):\n",
    "    sigma = p[1]\n",
    "    \n",
    "    return sigma"
   ]
  },
  {
   "cell_type": "code",
   "execution_count": 13,
   "id": "55a4e4f8",
   "metadata": {},
   "outputs": [
    {
     "name": "stdout",
     "output_type": "stream",
     "text": [
      "2.0813272204710795\n",
      "3.384721411433883\n"
     ]
    }
   ],
   "source": [
    "np.random.seed(123)\n",
    "N = 100\n",
    "\n",
    "x = np.random.normal(loc = mu, scale = sigma, size = (N,))\n",
    "#plt.plot(x, 'k')\n",
    "\n",
    "print(np.mean(x))\n",
    "print(np.std(x))"
   ]
  },
  {
   "cell_type": "code",
   "execution_count": 16,
   "id": "dd423c8c",
   "metadata": {},
   "outputs": [
    {
     "data": {
      "text/plain": [
       "     fun: 263.8210135314002\n",
       "     jac: array([2.59399414e-04, 3.81469727e-06])\n",
       " message: 'Optimization terminated successfully.'\n",
       "    nfev: 58\n",
       "     nit: 12\n",
       "    njev: 12\n",
       "  status: 0\n",
       " success: True\n",
       "       x: array([2.08135664, 3.38472116])"
      ]
     },
     "execution_count": 16,
     "metadata": {},
     "output_type": "execute_result"
    }
   ],
   "source": [
    "cons = {'type':'ineq', 'fun': constraint}\n",
    "\n",
    "p0 = [0, 1]\n",
    "\n",
    "minimize(log_likelihood, p0, args=(x,), constraints=cons )"
   ]
  },
  {
   "cell_type": "code",
   "execution_count": null,
   "id": "43c8f4c7",
   "metadata": {},
   "outputs": [],
   "source": []
  }
 ],
 "metadata": {
  "kernelspec": {
   "display_name": "Python 3",
   "language": "python",
   "name": "python3"
  },
  "language_info": {
   "codemirror_mode": {
    "name": "ipython",
    "version": 3
   },
   "file_extension": ".py",
   "mimetype": "text/x-python",
   "name": "python",
   "nbconvert_exporter": "python",
   "pygments_lexer": "ipython3",
   "version": "3.7.1"
  }
 },
 "nbformat": 4,
 "nbformat_minor": 5
}
