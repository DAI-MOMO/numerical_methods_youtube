{
 "cells": [
  {
   "cell_type": "code",
   "execution_count": 3,
   "metadata": {},
   "outputs": [],
   "source": [
    "import numpy as np\n",
    "from scipy.interpolate import lagrange\n",
    "from numpy.polynomial.polynomial import Polynomial\n",
    "import matplotlib.pyplot as plt\n",
    "\n",
    "%matplotlib inline"
   ]
  },
  {
   "cell_type": "code",
   "execution_count": 13,
   "metadata": {},
   "outputs": [
    {
     "data": {
      "text/plain": [
       "Text(5.6, 2.660894955803764, '$(x_5, y_5)$')"
      ]
     },
     "execution_count": 13,
     "metadata": {},
     "output_type": "execute_result"
    },
    {
     "data": {
      "image/png": "[encoded data removed]",
      "text/plain": [
       "<Figure size 432x288 with 1 Axes>"
      ]
     },
     "metadata": {
      "needs_background": "light"
     },
     "output_type": "display_data"
    }
   ],
   "source": [
    "np.random.seed(4)\n",
    "\n",
    "x = np.arange(1, 7)\n",
    "y = 10 * np.random.rand(6)\n",
    "\n",
    "plt.plot(x, y, 'o')\n",
    "plt.grid(True)\n",
    "plt.xlim(0, 7)\n",
    "plt.ylim(0, 12)\n",
    "\n",
    "plt.annotate('$(x_0, y_0)$', (x[0] + -0.4, y[0] + 0.5) )\n",
    "plt.annotate('$(x_1, y_1)$', (x[1] + -0.4, y[1] + 0.5) )\n",
    "plt.annotate('$(x_2, y_2)$', (x[2] + -0.4, y[2] + 0.5) )\n",
    "plt.annotate('$(x_3, y_3)$', (x[3] + -0.4, y[3] + 0.5) )\n",
    "plt.annotate('$(x_4, y_4)$', (x[4] + -0.4, y[4] + 0.5) )\n",
    "plt.annotate('$(x_5, y_5)$', (x[5] + -0.4, y[5] + 0.5) )"
   ]
  },
  {
   "cell_type": "markdown",
   "metadata": {},
   "source": [
    "We want to find a 5-th order polynomial the passes though all of our points.,\n",
    "$$y = \\alpha_0 + \\alpha_1  x +  \\alpha_2 x^2 + \\alpha_3 x^3 + \\alpha_4 x^4 + \\alpha_5 x^5$$\n",
    "\n",
    "So, we have six unknowns, but also six equations:\n",
    "\\begin{array}{ll}\n",
    "y_0 = & \\alpha_0 + \\alpha_1  x_0 +  \\alpha_2 x_0^2 + \\alpha_3 x_0^3 + \\alpha_4 x_0^4 + \\alpha_5 x_0^5 \\\\\n",
    "y_1 = & \\alpha_0 + \\alpha_1  x_1 +  \\alpha_2 x_1^2 + \\alpha_3 x_1^3 + \\alpha_4 x_1^4 + \\alpha_5 x_1^5 \\\\\n",
    "y_2 = & \\alpha_0 + \\alpha_1  x_2 +  \\alpha_2 x_2^2 + \\alpha_3 x_2^3 + \\alpha_4 x_2^4 + \\alpha_5 x_2^5 \\\\\n",
    "y_3 = & \\alpha_0 + \\alpha_1  x_3 +  \\alpha_2 x_3^2 + \\alpha_3 x_3^3 + \\alpha_4 x_3^4 + \\alpha_5 x_3^5 \\\\\n",
    "y_4 = & \\alpha_0 + \\alpha_1  x_4 +  \\alpha_2 x_4^2 + \\alpha_3 x_4^3 + \\alpha_4 x_4^4 + \\alpha_5 x_4^5 \\\\\n",
    "y_5 = & \\alpha_0 + \\alpha_1  x_5 +  \\alpha_2 x_5^2 + \\alpha_3 x_5^3 + \\alpha_4 x_5^4 + \\alpha_5 x_5^5 \n",
    "\\end{array}\n",
    "\n",
    "Or in matrix form,\n",
    "$$\n",
    "\\begin{pmatrix}\n",
    "y_0 \\\\\n",
    "y_1 \\\\\n",
    "y_2 \\\\\n",
    "y_3 \\\\\n",
    "y_4 \\\\\n",
    "y_5\n",
    "\\end{pmatrix}\n",
    "=\n",
    "\\begin{pmatrix}\n",
    "x_0^0 & x_0^1 & x_0^2 & x_0^3 & x_0^4 & x_0^5 \\\\\n",
    "x_1^0 & x_1^1 & x_1^2 & x_1^3 & x_1^4 & x_1^5 \\\\\n",
    "x_2^0 & x_2^1 & x_2^2 & x_2^3 & x_2^4 & x_2^5 \\\\\n",
    "x_3^0 & x_3^1 & x_3^2 & x_3^3 & x_3^4 & x_3^5 \\\\\n",
    "x_4^0 & x_4^1 & x_4^2 & x_4^3 & x_4^4 & x_4^5 \\\\\n",
    "x_5^0 & x_5^1 & x_5^2 & x_5^3 & x_5^4 & x_5^5\n",
    "\\end{pmatrix}\n",
    "\\begin{pmatrix}\n",
    "\\alpha_0 \\\\\n",
    "\\alpha_1 \\\\\n",
    "\\alpha_2 \\\\\n",
    "\\alpha_3 \\\\\n",
    "\\alpha_4 \\\\\n",
    "\\alpha_5\n",
    "\\end{pmatrix}\n",
    "$$"
   ]
  },
  {
   "cell_type": "code",
   "execution_count": 18,
   "metadata": {},
   "outputs": [
    {
     "name": "stdout",
     "output_type": "stream",
     "text": [
      "[ 102.95426043 -189.20594542  131.81958552  -41.68200677    6.12458021\n",
      "   -0.34017557]\n"
     ]
    }
   ],
   "source": [
    "A = np.stack( (x**0, x**1, x**2, x**3, x**4, x**5), axis = 1)\n",
    "\n",
    "alpha = np.linalg.solve(A, y)\n",
    "print(alpha)"
   ]
  },
  {
   "cell_type": "code",
   "execution_count": 25,
   "metadata": {},
   "outputs": [
    {
     "data": {
      "text/plain": [
       "[<matplotlib.lines.Line2D at 0x265d0b7d8d0>]"
      ]
     },
     "execution_count": 25,
     "metadata": {},
     "output_type": "execute_result"
    },
    {
     "data": {
      "image/png": "[encoded data removed]",
      "text/plain": [
       "<Figure size 432x288 with 1 Axes>"
      ]
     },
     "metadata": {
      "needs_background": "light"
     },
     "output_type": "display_data"
    }
   ],
   "source": [
    "plt.plot(x, y, 'o')\n",
    "plt.grid(True)\n",
    "plt.xlim(0, 7)\n",
    "plt.ylim(0, 12)\n",
    "\n",
    "X = np.linspace(1, 6, 1000)\n",
    "y1 = alpha[0] + alpha[1] * X + alpha[2] * X**2 + alpha[3] * X**3 + alpha[4] * X**4 + alpha[5] * X**5\n",
    "\n",
    "plt.plot(X, y1, 'k')"
   ]
  },
  {
   "cell_type": "markdown",
   "metadata": {},
   "source": [
    "##  Lagrange Polynomials\n",
    "\n",
    "<a href=\"https://en.wikipedia.org/wiki/Lagrange_polynomial\">Wikipedia article</A> on Lagrange polynomials\n",
    "\n",
    "$$L(x) = \\sum_{j = 0}^k y_j\\ell_j(x)$$\n",
    "$$\\ell_j(x) = \\prod_{\\substack{0 \\leq m \\leq k\\\\ m \\neq j}} \n",
    "\\frac{x - x_m}{x_j - x_m}$$"
   ]
  },
  {
   "cell_type": "code",
   "execution_count": 35,
   "metadata": {},
   "outputs": [
    {
     "name": "stdout",
     "output_type": "stream",
     "text": [
      "[  -0.34017557    6.12458021  -41.68200677  131.81958552 -189.20594542\n",
      "  102.95426043]\n"
     ]
    },
    {
     "data": {
      "text/plain": [
       "[<matplotlib.lines.Line2D at 0x265d0e2ada0>]"
      ]
     },
     "execution_count": 35,
     "metadata": {},
     "output_type": "execute_result"
    },
    {
     "data": {
      "image/png": "[encoded data removed]",
      "text/plain": [
       "<Figure size 432x288 with 1 Axes>"
      ]
     },
     "metadata": {
      "needs_background": "light"
     },
     "output_type": "display_data"
    }
   ],
   "source": [
    "plt.plot(x, y, 'o')\n",
    "plt.grid(True)\n",
    "plt.xlim(0, 7)\n",
    "plt.ylim(0, 12)\n",
    "\n",
    "L = lagrange(x, y)\n",
    "L = Polynomial(L).coef\n",
    "print(L)\n",
    "\n",
    "plt.plot(X, np.polyval(L, X), 'k')"
   ]
  },
  {
   "cell_type": "code",
   "execution_count": 45,
   "metadata": {},
   "outputs": [
    {
     "data": {
      "text/plain": [
       "[<matplotlib.lines.Line2D at 0x265d0c46e80>]"
      ]
     },
     "execution_count": 45,
     "metadata": {},
     "output_type": "execute_result"
    },
    {
     "data": {
      "image/png": "[encoded data removed]",
      "text/plain": [
       "<Figure size 432x288 with 1 Axes>"
      ]
     },
     "metadata": {
      "needs_background": "light"
     },
     "output_type": "display_data"
    }
   ],
   "source": [
    "x = np.arange(15)\n",
    "y = 10 * np.random.rand(x.size)\n",
    "\n",
    "plt.plot(x, y, 'o')\n",
    "\n",
    "L = lagrange(x, y)\n",
    "L = Polynomial(L).coef\n",
    "\n",
    "X = np.linspace(0, 14, 100)\n",
    "plt.plot(X, np.polyval(L, X))"
   ]
  },
  {
   "cell_type": "code",
   "execution_count": null,
   "metadata": {},
   "outputs": [],
   "source": []
  }
 ],
 "metadata": {
  "kernelspec": {
   "display_name": "Python 3",
   "language": "python",
   "name": "python3"
  },
  "language_info": {
   "codemirror_mode": {
    "name": "ipython",
    "version": 3
   },
   "file_extension": ".py",
   "mimetype": "text/x-python",
   "name": "python",
   "nbconvert_exporter": "python",
   "pygments_lexer": "ipython3",
   "version": "3.7.1"
  }
 },
 "nbformat": 4,
 "nbformat_minor": 2
}
